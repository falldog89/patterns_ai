{
 "cells": [
  {
   "cell_type": "code",
   "execution_count": null,
   "id": "c6ea5f1c-972d-42fa-9343-364543ba5fc0",
   "metadata": {},
   "outputs": [],
   "source": [
    "\"\"\"\n",
    "### okay so:\n",
    "1. set up a way to continually play the game and save the networks\n",
    "    play\n",
    "    save\n",
    "    train\n",
    "    checkpoint\n",
    "    \n",
    "2. Think about network diversity\n",
    "\n",
    "3. Think properly about the hyperparameters and search tree parameters\n",
    "\n",
    "4. Think about how to stop other things interferring with the generation and training...\n",
    "\n",
    "5. Read about bayesian q learning and maybe get back into bayesian a bit more in general\n",
    "    it feels as though bayesian learning and search trees should go well together, measuring uncertainty as well\n",
    "    as value\n",
    "\n",
    "6. build a model loader and save game loader separately\n",
    "\n",
    "7. after the latest stuff is all tested, move away from using chrome so it can be fully shut down!\n",
    "\n",
    "8. think carefully about a nice structure for the code, in terms of where to sit each function...\n",
    "\n",
    "\"\"\"\n",
    "\n",
    "\n",
    "# okay so first thing is to improve the saving, build a model loader, build a trainer script, build a save game ifier\n",
    "\n",
    "# Go through and clean all code and make it NICE to work with!\n"
   ]
  },
  {
   "cell_type": "code",
   "execution_count": 1,
   "id": "c077f0bc-7ecb-4d51-bece-b59b7696afc7",
   "metadata": {},
   "outputs": [],
   "source": [
    "import random\n",
    "import matplotlib.pyplot as plt\n",
    "import datetime\n",
    "import os\n",
    "from pathlib import Path\n",
    "\n",
    "import numpy as np\n",
    "import copy\n",
    "from importlib import reload\n",
    "import torch\n",
    "import ray\n",
    "import pickle\n",
    "\n",
    "import int_to_board\n",
    "reload(int_to_board)\n",
    "\n",
    "import game\n",
    "reload(game)\n",
    "\n",
    "import plotting\n",
    "reload(plotting)\n",
    "\n",
    "import mcts.mcts\n",
    "reload(mcts.mcts)\n",
    "\n",
    "import mcts.networks\n",
    "reload(mcts.networks)\n",
    "\n",
    "import mcts.agent\n",
    "reload(mcts.agent)\n",
    "\n",
    "import augmentor\n",
    "reload(augmentor)\n",
    "\n",
    "import raygent\n",
    "reload(raygent)\n",
    "\n",
    "from game import Patterns\n",
    "from plotting import PatternPlotter\n",
    "\n",
    "from mcts.mcts import Tree, Node\n",
    "from mcts.networks import PatternsNet\n",
    "from mcts.agent import Agent\n",
    "\n",
    "from augmentor import StateAugmentor\n",
    "\n",
    "from raygent import AgentWorker\n",
    "\n",
    "rseed = 12387623\n",
    "random.seed(rseed)\n",
    "torch.manual_seed(rseed)\n",
    "np.random.seed(rseed)\n",
    "\n",
    "my_device = torch.device(\"cuda:0\") if torch.cuda.is_available() else torch.device(\"cpu\")\n"
   ]
  },
  {
   "cell_type": "code",
   "execution_count": 2,
   "id": "a753f9e1-8476-4daa-a7e8-89534711f7dd",
   "metadata": {},
   "outputs": [
    {
     "name": "stderr",
     "output_type": "stream",
     "text": [
      "2025-07-21 17:20:47,490\tINFO worker.py:1832 -- Started a local Ray instance. View the dashboard at \u001b[1m\u001b[32mhttp://127.0.0.1:8265 \u001b[39m\u001b[22m\n"
     ]
    },
    {
     "data": {
      "application/vnd.jupyter.widget-view+json": {
       "model_id": "87bc35733b9847b594645d598fc88c6d",
       "version_major": 2,
       "version_minor": 0
      },
      "text/html": [
       "<div class=\"lm-Widget p-Widget lm-Panel p-Panel jp-Cell-outputWrapper\">\n",
       "    <div style=\"margin-left: 50px;display: flex;flex-direction: row;align-items: center\">\n",
       "        <div class=\"jp-RenderedHTMLCommon\" style=\"display: flex; flex-direction: row;\">\n",
       "  <svg viewBox=\"0 0 567 224\" fill=\"none\" xmlns=\"http://www.w3.org/2000/svg\" style=\"height: 3em;\">\n",
       "    <g clip-path=\"url(#clip0_4338_178347)\">\n",
       "        <path d=\"M341.29 165.561H355.29L330.13 129.051C345.63 123.991 354.21 112.051 354.21 94.2307C354.21 71.3707 338.72 58.1807 311.88 58.1807H271V165.561H283.27V131.661H311.8C314.25 131.661 316.71 131.501 319.01 131.351L341.25 165.561H341.29ZM283.29 119.851V70.0007H311.82C331.3 70.0007 342.34 78.2907 342.34 94.5507C342.34 111.271 331.34 119.861 311.82 119.861L283.29 119.851ZM451.4 138.411L463.4 165.561H476.74L428.74 58.1807H416L367.83 165.561H380.83L392.83 138.411H451.4ZM446.19 126.601H398L422 72.1407L446.24 126.601H446.19ZM526.11 128.741L566.91 58.1807H554.35L519.99 114.181L485.17 58.1807H472.44L514.01 129.181V165.541H526.13V128.741H526.11Z\" fill=\"var(--jp-ui-font-color0)\"/>\n",
       "        <path d=\"M82.35 104.44C84.0187 97.8827 87.8248 92.0678 93.1671 87.9146C98.5094 83.7614 105.083 81.5067 111.85 81.5067C118.617 81.5067 125.191 83.7614 130.533 87.9146C135.875 92.0678 139.681 97.8827 141.35 104.44H163.75C164.476 101.562 165.622 98.8057 167.15 96.2605L127.45 56.5605C121.071 60.3522 113.526 61.6823 106.235 60.3005C98.9443 58.9187 92.4094 54.9203 87.8602 49.0574C83.3109 43.1946 81.0609 35.8714 81.5332 28.4656C82.0056 21.0599 85.1679 14.0819 90.4252 8.8446C95.6824 3.60726 102.672 0.471508 110.08 0.0272655C117.487 -0.416977 124.802 1.86091 130.647 6.4324C136.493 11.0039 140.467 17.5539 141.821 24.8501C143.175 32.1463 141.816 39.6859 138 46.0505L177.69 85.7505C182.31 82.9877 187.58 81.4995 192.962 81.4375C198.345 81.3755 203.648 82.742 208.33 85.3976C213.012 88.0532 216.907 91.9029 219.616 96.5544C222.326 101.206 223.753 106.492 223.753 111.875C223.753 117.258 222.326 122.545 219.616 127.197C216.907 131.848 213.012 135.698 208.33 138.353C203.648 141.009 198.345 142.375 192.962 142.313C187.58 142.251 182.31 140.763 177.69 138L138 177.7C141.808 184.071 143.155 191.614 141.79 198.91C140.424 206.205 136.44 212.75 130.585 217.313C124.731 221.875 117.412 224.141 110.004 223.683C102.596 223.226 95.6103 220.077 90.3621 214.828C85.1139 209.58 81.9647 202.595 81.5072 195.187C81.0497 187.779 83.3154 180.459 87.878 174.605C92.4405 168.751 98.9853 164.766 106.281 163.401C113.576 162.035 121.119 163.383 127.49 167.19L167.19 127.49C165.664 124.941 164.518 122.182 163.79 119.3H141.39C139.721 125.858 135.915 131.673 130.573 135.826C125.231 139.98 118.657 142.234 111.89 142.234C105.123 142.234 98.5494 139.98 93.2071 135.826C87.8648 131.673 84.0587 125.858 82.39 119.3H60C58.1878 126.495 53.8086 132.78 47.6863 136.971C41.5641 141.163 34.1211 142.972 26.7579 142.059C19.3947 141.146 12.6191 137.574 7.70605 132.014C2.79302 126.454 0.0813599 119.29 0.0813599 111.87C0.0813599 104.451 2.79302 97.2871 7.70605 91.7272C12.6191 86.1673 19.3947 82.5947 26.7579 81.6817C34.1211 80.7686 41.5641 82.5781 47.6863 86.7696C53.8086 90.9611 58.1878 97.2456 60 104.44H82.35ZM100.86 204.32C103.407 206.868 106.759 208.453 110.345 208.806C113.93 209.159 117.527 208.258 120.522 206.256C123.517 204.254 125.725 201.276 126.771 197.828C127.816 194.38 127.633 190.677 126.253 187.349C124.874 184.021 122.383 181.274 119.205 179.577C116.027 177.88 112.359 177.337 108.826 178.042C105.293 178.746 102.113 180.654 99.8291 183.44C97.5451 186.226 96.2979 189.718 96.3 193.32C96.2985 195.364 96.7006 197.388 97.4831 199.275C98.2656 201.163 99.4132 202.877 100.86 204.32ZM204.32 122.88C206.868 120.333 208.453 116.981 208.806 113.396C209.159 109.811 208.258 106.214 206.256 103.219C204.254 100.223 201.275 98.0151 197.827 96.97C194.38 95.9249 190.676 96.1077 187.348 97.4873C184.02 98.8669 181.274 101.358 179.577 104.536C177.879 107.714 177.337 111.382 178.041 114.915C178.746 118.448 180.653 121.627 183.439 123.911C186.226 126.195 189.717 127.443 193.32 127.44C195.364 127.443 197.388 127.042 199.275 126.259C201.163 125.476 202.878 124.328 204.32 122.88ZM122.88 19.4205C120.333 16.8729 116.981 15.2876 113.395 14.9347C109.81 14.5817 106.213 15.483 103.218 17.4849C100.223 19.4868 98.0146 22.4654 96.9696 25.9131C95.9245 29.3608 96.1073 33.0642 97.4869 36.3922C98.8665 39.7202 101.358 42.4668 104.535 44.1639C107.713 45.861 111.381 46.4036 114.914 45.6992C118.447 44.9949 121.627 43.0871 123.911 40.301C126.195 37.515 127.442 34.0231 127.44 30.4205C127.44 28.3772 127.038 26.3539 126.255 24.4664C125.473 22.5788 124.326 20.8642 122.88 19.4205ZM19.42 100.86C16.8725 103.408 15.2872 106.76 14.9342 110.345C14.5813 113.93 15.4826 117.527 17.4844 120.522C19.4863 123.518 22.4649 125.726 25.9127 126.771C29.3604 127.816 33.0638 127.633 36.3918 126.254C39.7198 124.874 42.4664 122.383 44.1635 119.205C45.8606 116.027 46.4032 112.359 45.6988 108.826C44.9944 105.293 43.0866 102.114 40.3006 99.8296C37.5145 97.5455 34.0227 96.2983 30.42 96.3005C26.2938 96.3018 22.337 97.9421 19.42 100.86ZM100.86 100.86C98.3125 103.408 96.7272 106.76 96.3742 110.345C96.0213 113.93 96.9226 117.527 98.9244 120.522C100.926 123.518 103.905 125.726 107.353 126.771C110.8 127.816 114.504 127.633 117.832 126.254C121.16 124.874 123.906 122.383 125.604 119.205C127.301 116.027 127.843 112.359 127.139 108.826C126.434 105.293 124.527 102.114 121.741 99.8296C118.955 97.5455 115.463 96.2983 111.86 96.3005C109.817 96.299 107.793 96.701 105.905 97.4835C104.018 98.2661 102.303 99.4136 100.86 100.86Z\" fill=\"#00AEEF\"/>\n",
       "    </g>\n",
       "    <defs>\n",
       "        <clipPath id=\"clip0_4338_178347\">\n",
       "            <rect width=\"566.93\" height=\"223.75\" fill=\"white\"/>\n",
       "        </clipPath>\n",
       "    </defs>\n",
       "  </svg>\n",
       "</div>\n",
       "\n",
       "        <table class=\"jp-RenderedHTMLCommon\" style=\"border-collapse: collapse;color: var(--jp-ui-font-color1);font-size: var(--jp-ui-font-size1);\">\n",
       "    <tr>\n",
       "        <td style=\"text-align: left\"><b>Python version:</b></td>\n",
       "        <td style=\"text-align: left\"><b>3.11.5</b></td>\n",
       "    </tr>\n",
       "    <tr>\n",
       "        <td style=\"text-align: left\"><b>Ray version:</b></td>\n",
       "        <td style=\"text-align: left\"><b>2.42.1</b></td>\n",
       "    </tr>\n",
       "    <tr>\n",
       "    <td style=\"text-align: left\"><b>Dashboard:</b></td>\n",
       "    <td style=\"text-align: left\"><b><a href=\"http://127.0.0.1:8265\" target=\"_blank\">http://127.0.0.1:8265</a></b></td>\n",
       "</tr>\n",
       "\n",
       "</table>\n",
       "\n",
       "    </div>\n",
       "</div>\n"
      ],
      "text/plain": [
       "RayContext(dashboard_url='127.0.0.1:8265', python_version='3.11.5', ray_version='2.42.1', ray_commit='c2e38f7b75be223c0c033986472daada8622d64f')"
      ]
     },
     "execution_count": 2,
     "metadata": {},
     "output_type": "execute_result"
    }
   ],
   "source": [
    "ray.init()\n"
   ]
  },
  {
   "cell_type": "code",
   "execution_count": 3,
   "id": "242e134a-6576-4c01-9697-899e7c381d28",
   "metadata": {},
   "outputs": [
    {
     "data": {
      "text/plain": [
       "<All keys matched successfully>"
      ]
     },
     "execution_count": 3,
     "metadata": {},
     "output_type": "execute_result"
    }
   ],
   "source": [
    "### load the model:\n",
    "network_path = os.path.join(Path.cwd(), 'saved_networks', 'v4', '2025_07_11_15_25.pt')\n",
    "my_network = PatternsNet(in_channels=47, out_channels=128)\n",
    "my_network.load_state_dict(torch.load(network_path, weights_only=True))"
   ]
  },
  {
   "cell_type": "code",
   "execution_count": 4,
   "id": "2975f905-9b28-4006-93f0-ab8e37d963ed",
   "metadata": {},
   "outputs": [],
   "source": [
    "### how long to keep up the training iterations:\n",
    "NUM_IT = 1 # 1 validation, 15*30k games:\n",
    "\n",
    "### Agent parameters:\n",
    "NUM_TREES = 10\n",
    "TARGET_GAMES = 10\n",
    "\n",
    "\n",
    "### exploration schedule, to control number of searches with depth of tree:\n",
    "SCHEDULE = [\n",
    "    (0, 0), # explore randomly for the first moves:\n",
    "    (1, 25), # limited search to avoid worst moves:\n",
    "    (10, 300), # deeper search for deeper games:\n",
    "]\n",
    "\n",
    "### number of moves from terminal to save with:\n",
    "SAVE_DEPTH = 5\n",
    "\n",
    "### breadth-search parameters to favor narrower, deeper trees even early on:\n",
    "TOPN = 6 # 6 best moves according to the puct scores:\n",
    "RANDN = 4 # 4 additional random moves to favor exploration:\n",
    "\n",
    "### how the next move is chosen. If Temp is not None, sampled from visit count distribution\n",
    "SELECTION_TEMP = 1.0\n",
    "\n",
    "agent_config = {\n",
    "   # \"agent_id\": \"agent\",\n",
    "    \"network\": my_network,\n",
    "    \"device\": my_device,\n",
    "    \"num_trees\": NUM_TREES,\n",
    "    \"target_games\": TARGET_GAMES,\n",
    "    \"selection_temperature\": SELECTION_TEMP,\n",
    "    \"topn\": TOPN,\n",
    "    \"randn\": RANDN,\n",
    "    \"save_depth\": SAVE_DEPTH,\n",
    "    \"explore_steps_schedule\": SCHEDULE,\n",
    "    \"debug\": False,\n",
    "}\n",
    "\n",
    "### number of agents running as separate python processes at once:\n",
    "NUM_RAYGENTS = 2\n"
   ]
  },
  {
   "cell_type": "code",
   "execution_count": 5,
   "id": "00ece296-56af-4d5d-9312-48eb5671c45e",
   "metadata": {},
   "outputs": [
    {
     "name": "stdout",
     "output_type": "stream",
     "text": [
      "\u001b[36m(AgentWorker pid=70524)\u001b[0m Generating initial games:\n",
      "\u001b[36m(AgentWorker pid=70524)\u001b[0m Evaluating tensor states...\n",
      "\u001b[36m(AgentWorker pid=70524)\u001b[0m Provisioning inference to root nodes...\n",
      "\u001b[36m(AgentWorker pid=70524)\u001b[0m 1 games have been completed!\n",
      "\u001b[36m(AgentWorker pid=70524)\u001b[0m 2 games have been completed!\n",
      "\u001b[36m(AgentWorker pid=70524)\u001b[0m 3 games have been completed!\n",
      "\u001b[36m(AgentWorker pid=50336)\u001b[0m Generating initial games:\n",
      "\u001b[36m(AgentWorker pid=50336)\u001b[0m Evaluating tensor states...\n",
      "\u001b[36m(AgentWorker pid=50336)\u001b[0m Provisioning inference to root nodes...\n",
      "\u001b[36m(AgentWorker pid=50336)\u001b[0m 1 games have been completed!\n",
      "\u001b[36m(AgentWorker pid=70524)\u001b[0m 5 games have been completed!\u001b[32m [repeated 2x across cluster] (Ray deduplicates logs by default. Set RAY_DEDUP_LOGS=0 to disable log deduplication, or see https://docs.ray.io/en/master/ray-observability/user-guides/configure-logging.html#log-deduplication for more options.)\u001b[0m\n",
      "\u001b[36m(AgentWorker pid=50336)\u001b[0m 8 games have been completed!\u001b[32m [repeated 12x across cluster]\u001b[0m\n",
      "All agents completed!\n",
      "\u001b[36m(AgentWorker pid=50336)\u001b[0m 10 games have been completed!\n"
     ]
    }
   ],
   "source": [
    "### start the ray processes:\n",
    "\n",
    "futures = []\n",
    "\n",
    "for _it in range(NUM_RAYGENTS):\n",
    "    _config = agent_config.copy()\n",
    "    _config[\"agent_id\"] = f\"raygent_{_it}\"\n",
    "    _rgent = AgentWorker.remote(_config)\n",
    "    futures.append(_rgent.run.remote())\n",
    "\n",
    "# Wait for completion and collect all games\n",
    "all_completed_games = ray.get(futures)\n",
    "\n",
    "# (Optional) Flatten or save\n",
    "print(\"All agents completed!\")"
   ]
  },
  {
   "cell_type": "code",
   "execution_count": 7,
   "id": "0f02675a-aba2-48af-a787-cb7d72c23963",
   "metadata": {},
   "outputs": [
    {
     "data": {
      "text/plain": [
       "100"
      ]
     },
     "execution_count": 7,
     "metadata": {},
     "output_type": "execute_result"
    }
   ],
   "source": [
    "total_tdata = 0\n",
    "\n",
    "for _games in all_completed_games:\n",
    "    total_tdata += len(_games[0])\n",
    "    total_tdata += len(_games[-1])\n",
    "    total_tdata += len(_games[1])\n",
    "\n",
    "total_tdata"
   ]
  },
  {
   "cell_type": "code",
   "execution_count": null,
   "id": "9532093c-b68a-41af-81dd-072d020b3d77",
   "metadata": {},
   "outputs": [],
   "source": [
    "print(f\"{**agent_config}\")"
   ]
  },
  {
   "cell_type": "code",
   "execution_count": null,
   "id": "fc7304ae-f7fc-443a-9b87-35dc073f25dc",
   "metadata": {},
   "outputs": [],
   "source": [
    "len(all_completed_games[0][1])"
   ]
  },
  {
   "cell_type": "code",
   "execution_count": null,
   "id": "71936602-04d2-4db0-befd-c37f43729d99",
   "metadata": {},
   "outputs": [],
   "source": [
    "set([_x for _x in self.active_orthogonal_groups[color]\n",
    "                                                  if self.active_board[_x] == color\n",
    "                                                  if _x not in self.passive_orthogonal_groups[color]])"
   ]
  },
  {
   "cell_type": "code",
   "execution_count": null,
   "id": "db8b2178-54d0-4752-853b-1e2571ae9c5e",
   "metadata": {},
   "outputs": [],
   "source": [
    "def fun1(n):\n",
    "    adder = {5, 6, 7, 8}\n",
    "    start_set = {0, 1, 2, 3, 4}\n",
    "    for _ in range(n):\n",
    "        start_set.update(adder)\n",
    "        start_set -= adder\n",
    "\n",
    "def fun2(n):\n",
    "    adder = {5, 6, 7, 8}\n",
    "    start_set = {0, 1, 2, 3, 4}\n",
    "    for _ in range(n):\n",
    "        start_set |= adder\n",
    "        start_set -= adder\n"
   ]
  },
  {
   "cell_type": "code",
   "execution_count": null,
   "id": "e1bf2bcc-3d66-475f-accb-4b3a011ea416",
   "metadata": {},
   "outputs": [],
   "source": [
    "%prun fun2(100000)"
   ]
  },
  {
   "cell_type": "code",
   "execution_count": null,
   "id": "d3cf61cf-ddd2-42c4-a137-670f6c5746c1",
   "metadata": {},
   "outputs": [],
   "source": []
  }
 ],
 "metadata": {
  "kernelspec": {
   "display_name": "Python 3 (ipykernel)",
   "language": "python",
   "name": "python3"
  },
  "language_info": {
   "codemirror_mode": {
    "name": "ipython",
    "version": 3
   },
   "file_extension": ".py",
   "mimetype": "text/x-python",
   "name": "python",
   "nbconvert_exporter": "python",
   "pygments_lexer": "ipython3",
   "version": "3.11.5"
  }
 },
 "nbformat": 4,
 "nbformat_minor": 5
}
