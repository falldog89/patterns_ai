{
 "cells": [
  {
   "cell_type": "code",
   "execution_count": 1,
   "id": "76388a02-2834-4bcc-a97c-a73cf0835a45",
   "metadata": {},
   "outputs": [],
   "source": [
    "import random\n",
    "import numpy as np\n",
    "from importlib import reload\n",
    "import torch\n",
    "import int_to_board\n",
    "reload(int_to_board)\n",
    "\n",
    "import game\n",
    "reload(game)\n",
    "\n",
    "import plotting\n",
    "reload(plotting)\n",
    "\n",
    "import mcts.mcts\n",
    "reload(mcts.mcts)\n",
    "\n",
    "import mcts.networks\n",
    "reload(mcts.networks)\n",
    "\n",
    "import mcts.agent\n",
    "reload(mcts.agent)\n",
    "\n",
    "from game import Patterns\n",
    "from plotting import PatternPlotter\n",
    "\n",
    "from mcts.mcts import Tree, Node\n",
    "from mcts.networks import PatternsNet\n",
    "from mcts.agent import Agent\n",
    "\n",
    "rseed = 12387623\n",
    "random.seed(rseed)\n",
    "torch.manual_seed(rseed)\n",
    "np.random.seed(rseed)\n",
    "\n",
    "my_device = torch.device(\"cuda\")"
   ]
  },
  {
   "cell_type": "code",
   "execution_count": 2,
   "id": "9bb885d2-2d54-44e9-8a4b-9be7627c347e",
   "metadata": {},
   "outputs": [],
   "source": [
    "my_network = PatternsNet(\n",
    "    in_channels=102, # 102 for the number of state planes: 18 for tokens, 72 for order, 12 for bowl tokens\n",
    "    out_channels=64,\n",
    ")\n",
    "\n",
    "my_agent = Agent(\n",
    "    agent_id='1', \n",
    "    network = my_network,\n",
    "    device = my_device,\n",
    "    num_trees = 10, \n",
    "    explore_steps=200, \n",
    "    target_games=10,\n",
    "    selection_temperature=1.0\n",
    ")"
   ]
  },
  {
   "cell_type": "code",
   "execution_count": 3,
   "id": "1df8e4d8-a38a-4dc9-be9c-3a66a0a05612",
   "metadata": {},
   "outputs": [
    {
     "name": "stdout",
     "output_type": "stream",
     "text": [
      "error\n",
      "None [-0.02430664 -0.06903722 -0.09743343  0.12331092  0.12048885 -0.09277792\n",
      " -0.07181525  0.06043141  0.03171035  0.06425811 -0.07828105 -0.02212325\n",
      " -0.02135373  0.08014898  0.08452042 -0.08660449 -0.03755429 -0.02606448\n",
      "  0.047082   -0.00206271  0.03504057 -0.06691293 -0.00839257  0.02458134\n",
      " -0.10436718  0.09003602 -0.02883717  0.03993938 -0.08606927 -0.01464115\n",
      "  0.06529113 -0.06054154  0.11422119  0.0991402   0.02579343  0.03403974\n",
      " -0.04604828 -0.11466886  0.12837186  0.1260421   0.11903308  0.07377534\n",
      " -0.0934232  -0.09705916 -0.03305229 -0.07607705  0.00950816 -0.0741842\n",
      "  0.00175394  0.10458535 -0.10929238  0.0293529   0.10048606 -0.09129851\n",
      "  0.10693742 -0.08109353 -0.05239104  0.02002806 -0.0505236  -0.07142459\n",
      "  0.00916773 -0.0497287   0.13211617 -0.02916925 -0.11447031  0.09817644\n",
      " -0.11280291 -0.04753551 -0.00214999 -0.06705897  0.0771121   0.0650832\n",
      " -0.09018125 -0.09879915  0.09845945 -0.06696639 -0.00033125 -0.00669312\n",
      "  0.0601225  -0.02097042  0.04706941 -0.05293338  0.0563669  -0.09606685\n",
      " -0.09612808 -0.0462431   0.00203533 -0.0914846   0.08399926  0.02258486\n",
      " -0.05243287 -0.02156263 -0.02325422 -0.12342103 -0.03109813  0.02820271\n",
      "  0.07304168 -0.06217889  0.00713282 -0.04073707 -0.11412326  0.11456577\n",
      " -0.003481   -0.07898526 -0.03825192 -0.11784536 -0.03193738] 2 <game.Patterns object at 0x00000140C1AC0290>\n"
     ]
    },
    {
     "ename": "TypeError",
     "evalue": "unsupported operand type(s) for *: 'NoneType' and 'float'",
     "output_type": "error",
     "traceback": [
      "\u001b[1;31m---------------------------------------------------------------------------\u001b[0m",
      "\u001b[1;31mTypeError\u001b[0m                                 Traceback (most recent call last)",
      "Cell \u001b[1;32mIn[3], line 1\u001b[0m\n\u001b[1;32m----> 1\u001b[0m get_ipython()\u001b[38;5;241m.\u001b[39mrun_line_magic(\u001b[38;5;124m'\u001b[39m\u001b[38;5;124mprun\u001b[39m\u001b[38;5;124m'\u001b[39m, \u001b[38;5;124m'\u001b[39m\u001b[38;5;124mmy_agent.run_games()\u001b[39m\u001b[38;5;124m'\u001b[39m)\n",
      "File \u001b[1;32mC:\\tools\\Anaconda3\\envs\\cuda_env_ray\\Lib\\site-packages\\IPython\\core\\interactiveshell.py:2432\u001b[0m, in \u001b[0;36mInteractiveShell.run_line_magic\u001b[1;34m(self, magic_name, line, _stack_depth)\u001b[0m\n\u001b[0;32m   2430\u001b[0m     kwargs[\u001b[38;5;124m'\u001b[39m\u001b[38;5;124mlocal_ns\u001b[39m\u001b[38;5;124m'\u001b[39m] \u001b[38;5;241m=\u001b[39m \u001b[38;5;28mself\u001b[39m\u001b[38;5;241m.\u001b[39mget_local_scope(stack_depth)\n\u001b[0;32m   2431\u001b[0m \u001b[38;5;28;01mwith\u001b[39;00m \u001b[38;5;28mself\u001b[39m\u001b[38;5;241m.\u001b[39mbuiltin_trap:\n\u001b[1;32m-> 2432\u001b[0m     result \u001b[38;5;241m=\u001b[39m fn(\u001b[38;5;241m*\u001b[39margs, \u001b[38;5;241m*\u001b[39m\u001b[38;5;241m*\u001b[39mkwargs)\n\u001b[0;32m   2434\u001b[0m \u001b[38;5;66;03m# The code below prevents the output from being displayed\u001b[39;00m\n\u001b[0;32m   2435\u001b[0m \u001b[38;5;66;03m# when using magics with decorator @output_can_be_silenced\u001b[39;00m\n\u001b[0;32m   2436\u001b[0m \u001b[38;5;66;03m# when the last Python token in the expression is a ';'.\u001b[39;00m\n\u001b[0;32m   2437\u001b[0m \u001b[38;5;28;01mif\u001b[39;00m \u001b[38;5;28mgetattr\u001b[39m(fn, magic\u001b[38;5;241m.\u001b[39mMAGIC_OUTPUT_CAN_BE_SILENCED, \u001b[38;5;28;01mFalse\u001b[39;00m):\n",
      "File \u001b[1;32mC:\\tools\\Anaconda3\\envs\\cuda_env_ray\\Lib\\site-packages\\IPython\\core\\magics\\execution.py:313\u001b[0m, in \u001b[0;36mExecutionMagics.prun\u001b[1;34m(self, parameter_s, cell)\u001b[0m\n\u001b[0;32m    311\u001b[0m     arg_str \u001b[38;5;241m+\u001b[39m\u001b[38;5;241m=\u001b[39m \u001b[38;5;124m'\u001b[39m\u001b[38;5;130;01m\\n\u001b[39;00m\u001b[38;5;124m'\u001b[39m \u001b[38;5;241m+\u001b[39m cell\n\u001b[0;32m    312\u001b[0m arg_str \u001b[38;5;241m=\u001b[39m \u001b[38;5;28mself\u001b[39m\u001b[38;5;241m.\u001b[39mshell\u001b[38;5;241m.\u001b[39mtransform_cell(arg_str)\n\u001b[1;32m--> 313\u001b[0m \u001b[38;5;28;01mreturn\u001b[39;00m \u001b[38;5;28mself\u001b[39m\u001b[38;5;241m.\u001b[39m_run_with_profiler(arg_str, opts, \u001b[38;5;28mself\u001b[39m\u001b[38;5;241m.\u001b[39mshell\u001b[38;5;241m.\u001b[39muser_ns)\n",
      "File \u001b[1;32mC:\\tools\\Anaconda3\\envs\\cuda_env_ray\\Lib\\site-packages\\IPython\\core\\magics\\execution.py:335\u001b[0m, in \u001b[0;36mExecutionMagics._run_with_profiler\u001b[1;34m(self, code, opts, namespace)\u001b[0m\n\u001b[0;32m    333\u001b[0m prof \u001b[38;5;241m=\u001b[39m profile\u001b[38;5;241m.\u001b[39mProfile()\n\u001b[0;32m    334\u001b[0m \u001b[38;5;28;01mtry\u001b[39;00m:\n\u001b[1;32m--> 335\u001b[0m     prof \u001b[38;5;241m=\u001b[39m prof\u001b[38;5;241m.\u001b[39mrunctx(code, namespace, namespace)\n\u001b[0;32m    336\u001b[0m     sys_exit \u001b[38;5;241m=\u001b[39m \u001b[38;5;124m'\u001b[39m\u001b[38;5;124m'\u001b[39m\n\u001b[0;32m    337\u001b[0m \u001b[38;5;28;01mexcept\u001b[39;00m \u001b[38;5;167;01mSystemExit\u001b[39;00m:\n",
      "File \u001b[1;32mC:\\tools\\Anaconda3\\envs\\cuda_env_ray\\Lib\\cProfile.py:101\u001b[0m, in \u001b[0;36mProfile.runctx\u001b[1;34m(self, cmd, globals, locals)\u001b[0m\n\u001b[0;32m     99\u001b[0m \u001b[38;5;28mself\u001b[39m\u001b[38;5;241m.\u001b[39menable()\n\u001b[0;32m    100\u001b[0m \u001b[38;5;28;01mtry\u001b[39;00m:\n\u001b[1;32m--> 101\u001b[0m     exec(cmd, \u001b[38;5;28mglobals\u001b[39m, \u001b[38;5;28mlocals\u001b[39m)\n\u001b[0;32m    102\u001b[0m \u001b[38;5;28;01mfinally\u001b[39;00m:\n\u001b[0;32m    103\u001b[0m     \u001b[38;5;28mself\u001b[39m\u001b[38;5;241m.\u001b[39mdisable()\n",
      "File \u001b[1;32m<string>:1\u001b[0m\n",
      "File \u001b[1;32m~\\PycharmProjects\\patterns\\mcts\\agent.py:77\u001b[0m, in \u001b[0;36mAgent.run_games\u001b[1;34m(self)\u001b[0m\n\u001b[0;32m     74\u001b[0m \u001b[38;5;28;01mwhile\u001b[39;00m \u001b[38;5;28mself\u001b[39m\u001b[38;5;241m.\u001b[39mnum_completed \u001b[38;5;241m<\u001b[39m \u001b[38;5;28mself\u001b[39m\u001b[38;5;241m.\u001b[39mtarget_games:\n\u001b[0;32m     75\u001b[0m     \u001b[38;5;66;03m# explore each tree for required number of moves:\u001b[39;00m\n\u001b[0;32m     76\u001b[0m     \u001b[38;5;28;01mfor\u001b[39;00m _ \u001b[38;5;129;01min\u001b[39;00m \u001b[38;5;28mrange\u001b[39m(\u001b[38;5;28mself\u001b[39m\u001b[38;5;241m.\u001b[39mexplore_steps):\n\u001b[1;32m---> 77\u001b[0m         \u001b[38;5;28mself\u001b[39m\u001b[38;5;241m.\u001b[39mexplore()\n\u001b[0;32m     79\u001b[0m     \u001b[38;5;66;03m# select an action for each tree root node, reset any trees that\u001b[39;00m\n\u001b[0;32m     80\u001b[0m     \u001b[38;5;66;03m# are completed:\u001b[39;00m\n\u001b[0;32m     81\u001b[0m     \u001b[38;5;28mself\u001b[39m\u001b[38;5;241m.\u001b[39mstep_trees()\n",
      "File \u001b[1;32m~\\PycharmProjects\\patterns\\mcts\\agent.py:118\u001b[0m, in \u001b[0;36mAgent.explore\u001b[1;34m(self)\u001b[0m\n\u001b[0;32m    115\u001b[0m \u001b[38;5;66;03m# iterate over trees in series:\u001b[39;00m\n\u001b[0;32m    116\u001b[0m \u001b[38;5;28;01mfor\u001b[39;00m _tree \u001b[38;5;129;01min\u001b[39;00m \u001b[38;5;28mself\u001b[39m\u001b[38;5;241m.\u001b[39mtrees:\n\u001b[0;32m    117\u001b[0m     \u001b[38;5;66;03m# flow to current leaf following argmax of puct scores:\u001b[39;00m\n\u001b[1;32m--> 118\u001b[0m     leaf_node \u001b[38;5;241m=\u001b[39m _tree\u001b[38;5;241m.\u001b[39mget_leaf_node()\n\u001b[0;32m    120\u001b[0m     \u001b[38;5;66;03m# leaf node is unchanged if terminal or first visit, else random child:\u001b[39;00m\n\u001b[0;32m    121\u001b[0m     leaf_node \u001b[38;5;241m=\u001b[39m leaf_node\u001b[38;5;241m.\u001b[39mexpand()\n",
      "File \u001b[1;32m~\\PycharmProjects\\patterns\\mcts\\mcts.py:313\u001b[0m, in \u001b[0;36mTree.get_leaf_node\u001b[1;34m(self)\u001b[0m\n\u001b[0;32m    310\u001b[0m     \u001b[38;5;28;01mreturn\u001b[39;00m \u001b[38;5;28mself\u001b[39m\u001b[38;5;241m.\u001b[39mroot_node\n\u001b[0;32m    312\u001b[0m \u001b[38;5;66;03m# root node has additional epsilon weighted dirichlet noise to encourage diversity in exploration:\u001b[39;00m\n\u001b[1;32m--> 313\u001b[0m puct_scores \u001b[38;5;241m=\u001b[39m \u001b[38;5;28mself\u001b[39m\u001b[38;5;241m.\u001b[39mcalculate_root_puct_scores()\n\u001b[0;32m    314\u001b[0m node \u001b[38;5;241m=\u001b[39m \u001b[38;5;28mself\u001b[39m\u001b[38;5;241m.\u001b[39mroot_node\n\u001b[0;32m    316\u001b[0m \u001b[38;5;28;01mwhile\u001b[39;00m \u001b[38;5;28;01mTrue\u001b[39;00m:\n",
      "File \u001b[1;32m~\\PycharmProjects\\patterns\\mcts\\mcts.py:331\u001b[0m, in \u001b[0;36mTree.calculate_root_puct_scores\u001b[1;34m(self)\u001b[0m\n\u001b[0;32m    326\u001b[0m \u001b[38;5;28;01mdef\u001b[39;00m \u001b[38;5;21mcalculate_root_puct_scores\u001b[39m(\u001b[38;5;28mself\u001b[39m) \u001b[38;5;241m-\u001b[39m\u001b[38;5;241m>\u001b[39m np\u001b[38;5;241m.\u001b[39mndarray[\u001b[38;5;28mfloat\u001b[39m]:\n\u001b[0;32m    327\u001b[0m \u001b[38;5;250m    \u001b[39m\u001b[38;5;124;03m\"\"\" Upon creation of the search tree, dirichlet noise is assigned to the root node that will\u001b[39;00m\n\u001b[0;32m    328\u001b[0m \u001b[38;5;124;03m    bias the search tree in relatively few directions for the duration of the explorations. Once the\u001b[39;00m\n\u001b[0;32m    329\u001b[0m \u001b[38;5;124;03m    search tree steps to a new root node, the dirichlet noise is reset, and new correlated noise is created.\u001b[39;00m\n\u001b[0;32m    330\u001b[0m \u001b[38;5;124;03m    \"\"\"\u001b[39;00m\n\u001b[1;32m--> 331\u001b[0m     root_exploration_scores \u001b[38;5;241m=\u001b[39m \u001b[38;5;28mself\u001b[39m\u001b[38;5;241m.\u001b[39mroot_node\u001b[38;5;241m.\u001b[39mcalculate_child_exploration_scores()\n\u001b[0;32m    333\u001b[0m     \u001b[38;5;66;03m# (1-eps) * normal policy + eps * dirichlet noise biases the prior for the agent\u001b[39;00m\n\u001b[0;32m    334\u001b[0m     eps_root_exploration_scores \u001b[38;5;241m=\u001b[39m ((\u001b[38;5;241m1.0\u001b[39m \u001b[38;5;241m-\u001b[39m \u001b[38;5;28mself\u001b[39m\u001b[38;5;241m.\u001b[39mdirichlet_noise_epsilon) \u001b[38;5;241m*\u001b[39m root_exploration_scores\n\u001b[0;32m    335\u001b[0m                                    \u001b[38;5;241m+\u001b[39m \u001b[38;5;28mself\u001b[39m\u001b[38;5;241m.\u001b[39mdirichlet_noise_epsilon \u001b[38;5;241m*\u001b[39m \u001b[38;5;28mself\u001b[39m\u001b[38;5;241m.\u001b[39mnoise)\n",
      "File \u001b[1;32m~\\PycharmProjects\\patterns\\mcts\\mcts.py:101\u001b[0m, in \u001b[0;36mNode.calculate_child_exploration_scores\u001b[1;34m(self)\u001b[0m\n\u001b[0;32m     97\u001b[0m     \u001b[38;5;28mprint\u001b[39m(\u001b[38;5;124m\"\u001b[39m\u001b[38;5;124merror\u001b[39m\u001b[38;5;124m\"\u001b[39m)\n\u001b[0;32m     99\u001b[0m \u001b[38;5;28mprint\u001b[39m(\u001b[38;5;28mself\u001b[39m\u001b[38;5;241m.\u001b[39mpolicy_vector, \u001b[38;5;28mself\u001b[39m\u001b[38;5;241m.\u001b[39mfull_policy, \u001b[38;5;28mself\u001b[39m\u001b[38;5;241m.\u001b[39mvisit_count, \u001b[38;5;28mself\u001b[39m\u001b[38;5;241m.\u001b[39mgame)\n\u001b[1;32m--> 101\u001b[0m \u001b[38;5;28;01mreturn\u001b[39;00m \u001b[38;5;28mself\u001b[39m\u001b[38;5;241m.\u001b[39mpolicy_vector \u001b[38;5;241m*\u001b[39m (\u001b[38;5;28mself\u001b[39m\u001b[38;5;241m.\u001b[39mvisit_count \u001b[38;5;241m*\u001b[39m\u001b[38;5;241m*\u001b[39m \u001b[38;5;241m0.5\u001b[39m) \u001b[38;5;241m/\u001b[39m \u001b[38;5;28mself\u001b[39m\u001b[38;5;241m.\u001b[39mchild_visit_counts\n",
      "\u001b[1;31mTypeError\u001b[0m: unsupported operand type(s) for *: 'NoneType' and 'float'"
     ]
    }
   ],
   "source": [
    "%prun my_agent.run_games()"
   ]
  },
  {
   "cell_type": "code",
   "execution_count": null,
   "id": "7f3fc24b-8e0e-40a5-bbe6-b7b0f1ed11a4",
   "metadata": {},
   "outputs": [],
   "source": [
    "# test the new game and the is terminal stuff:\n",
    "game = Patterns()\n",
    "\n",
    "while True:\n",
    "    actions = game.get_actions()\n",
    "    action = random.choice(actions)\n",
    "    is_terminal, result = game.step(action)\n",
    "\n",
    "    if is_terminal:\n",
    "        break\n",
    "\n",
    "    pplotter = PatternPlotter(game, fig_size=(7, 5))\n",
    "    pplotter.plot()\n",
    "\n",
    "pplotter = PatternPlotter(game)\n",
    "pplotter.plot()"
   ]
  },
  {
   "cell_type": "code",
   "execution_count": null,
   "id": "104427ed-d498-4bd3-8c20-4fc3eb36fecd",
   "metadata": {},
   "outputs": [],
   "source": [
    "with torch.profiler.profile(\n",
    "        activities=[\n",
    "            torch.profiler.ProfilerActivity.CPU,\n",
    "            torch.profiler.ProfilerActivity.CUDA,\n",
    "        ],\n",
    "        # schedule=torch.profiler.schedule(\n",
    "        #     wait=1, warmup=1, active=2, repeat=1, skip_first=1\n",
    "        # ),\n",
    "    ) as prof:\n",
    "        \n",
    "    my_agent.run_games()\n",
    "\n",
    "# prof.export_chrome_trace(f\"test_profiler.json\")"
   ]
  },
  {
   "cell_type": "code",
   "execution_count": null,
   "id": "357b4ec3-1691-4f93-bb0c-159c37b3ee69",
   "metadata": {},
   "outputs": [],
   "source": [
    "print(prof.key_averages().table(sort_by=\"cpu_time_total\", row_limit=10))"
   ]
  },
  {
   "cell_type": "code",
   "execution_count": null,
   "id": "879d17db-5614-4150-92c7-f567678aacb6",
   "metadata": {},
   "outputs": [],
   "source": [
    "for _game in my_agent.completed_games[9]:\n",
    "    print(_game.get_actions())\n",
    "    print(_game.calculate_score())\n",
    "    pplotter = PatternPlotter(_game, fig_size=(8, 5))\n",
    "    pplotter.plot()"
   ]
  },
  {
   "cell_type": "code",
   "execution_count": null,
   "id": "5f555d76-bd95-4b9b-a161-62d0aca3f0e1",
   "metadata": {},
   "outputs": [],
   "source": [
    "my_agent.completed_games"
   ]
  },
  {
   "cell_type": "code",
   "execution_count": null,
   "id": "2c6846fe-92eb-4171-8e1d-4c9d76b564da",
   "metadata": {},
   "outputs": [],
   "source": [
    "my_tree = Tree()\n",
    "\n",
    "my_network = PatternsNet(\n",
    "    in_channels=102, # 102 for the number of state planes: 18 for tokens, 72 for order, 12 for bowl tokens\n",
    "    out_channels=64,\n",
    ").to(my_device)\n",
    "\n",
    "for it in range(200):\n",
    "    print(f\"--_-_-_-_-_-_-_-_-_-_-_\")\n",
    "    \n",
    "    # flow to leaf:\n",
    "    leaf_node = my_tree.get_leaf_node()\n",
    "\n",
    "    # choose a random child of the leaf node, if not first visit:\n",
    "    leaf_node = leaf_node.expand()\n",
    "\n",
    "    # collect the actions that lead here:\n",
    "    _climber = leaf_node\n",
    "    _act = []\n",
    "    \n",
    "    while _climber.parent:\n",
    "        _act.append(_climber.parent.possible_actions[_climber.parent_action_arg])\n",
    "        _climber = _climber.parent\n",
    "    \n",
    "    leaf_tensor = leaf_node.get_tensor_state()\n",
    "    tensor_stack = torch.stack([leaf_tensor])\n",
    "    \n",
    "    with torch.inference_mode():\n",
    "        value_stack, policy_stack = my_network(tensor_stack.float().to(my_device))\n",
    "    \n",
    "    value_stack = value_stack.cpu().numpy()[0]\n",
    "    policy_stack = policy_stack.cpu().numpy()[0]\n",
    "    leaf_node.value_score = value_stack\n",
    "    leaf_node.policy_vector = policy_stack[leaf_node.possible_actions]\n",
    "    my_tree.back_propagate(leaf_node)\n",
    "\n",
    "    # plot the leaf node, the root node, etc:\n",
    "    print(f\"Root Node:\")\n",
    "    root_plotter = PatternPlotter(my_tree.root_node.game, fig_size=(7, 4))\n",
    "    root_plotter.plot()\n",
    "\n",
    "    print(f\"Leaf Node:\")\n",
    "    leaf_plotter = PatternPlotter(leaf_node.game, fig_size=(7, 4))\n",
    "    leaf_plotter.plot()\n",
    "    \n",
    "    print(f\"\\nActions that lead here: {_act[::-1]}\")\n",
    "    print(f\"\\nThe active color order: {leaf_node.game.active_color_order}\")\n",
    "    print(f\"\\nThe passive color order: {leaf_node.game.passive_color_order}\")\n",
    "    print(f\"--_-_-_-_-_-_-_-_-_-_-_\\n\\n\\n\")"
   ]
  },
  {
   "cell_type": "code",
   "execution_count": null,
   "id": "8c7f9ce8-b24c-48b5-be52-0a8cd9d63bae",
   "metadata": {},
   "outputs": [],
   "source": [
    "a1 = np.zeros((2, 2), dtype=int)\n",
    "a2 = np.array(a1)\n",
    "a1[0, 0] = 4\n",
    "a1[0, 1] += 2\n",
    "a2[1, 0] -= 5\n",
    "\n",
    "a1, a2"
   ]
  },
  {
   "cell_type": "code",
   "execution_count": null,
   "id": "4b544d15-463e-4b65-9a37-3d371410e11b",
   "metadata": {},
   "outputs": [],
   "source": [
    "a1 = {'a': {1, 2, 3}}\n",
    "a2 = dict(a1)\n",
    "a1['b'] = [4, 5]\n",
    "a1['a'].append(9)\n",
    "a2['a'].append(10)\n",
    "a1, a2"
   ]
  },
  {
   "cell_type": "code",
   "execution_count": null,
   "id": "cd48f26e-28ff-49a1-be50-316facce13a9",
   "metadata": {},
   "outputs": [],
   "source": [
    "my_dict = {'a': [2, 3], 'b': [4, 5]}\n",
    "{_key: list(_val) for _key, _val in my_dict.items()}"
   ]
  },
  {
   "cell_type": "code",
   "execution_count": null,
   "id": "a4059f64-0a9f-4227-8e02-49ac81a50d6c",
   "metadata": {},
   "outputs": [],
   "source": [
    "class class_checker:\n",
    "    def __init__(self, clone_class=None):\n",
    "        self.numpy_array = np.array([[1, 2, 3]])\n",
    "        self.list = [[4, 5, 6]]\n",
    "        self.val = 10\n",
    "        self.bool = True\n",
    "        self.set = {7, 8, 9}\n",
    "        self.dict = {'a': 1, 'b': 2, 'c': 3}\n",
    "\n",
    "        if clone_class is not None:\n",
    "            self.clone(clone_class)\n",
    "\n",
    "    def clone(self, another_class):\n",
    "        self.numpy_array = np.array(another_class.numpy_array)\n",
    "        self.list = another_class.list[:]\n",
    "        self.val = another_class.val\n",
    "        self.bool = another_class.bool\n",
    "        self.set = set(another_class.set)\n",
    "        self.dict = dict(another_class.dict)\n",
    "\n",
    "    def print_attributes(self):\n",
    "        print(self.numpy_array)\n",
    "        print(self.list)\n",
    "        print(self.val)\n",
    "        print(self.bool)\n",
    "        print(self.set)\n",
    "        print(self.dict)\n",
    "        \n",
    "\n",
    "class1 = class_checker()\n",
    "class2 = class_checker(class1)\n",
    "\n"
   ]
  },
  {
   "cell_type": "code",
   "execution_count": null,
   "id": "af8fd252-f484-434a-ba3f-7cab4113b789",
   "metadata": {},
   "outputs": [],
   "source": [
    "class1.numpy_array[0] *= 10\n",
    "class2.numpy_array[1] *= 100\n",
    "\n",
    "class1.list[0] *= 10\n",
    "class2.list[1] *= 100\n",
    "\n",
    "class1.val +=5\n",
    "class2.val -= 50\n",
    "\n",
    "class1.bool = True\n",
    "class2.bool = False\n",
    "\n",
    "class1.set.add(50)\n",
    "class2.set.remove(7)\n",
    "\n",
    "class1.dict[50] = 100\n",
    "class2.dict['a'] = -1\n",
    "\n",
    "class1.print_attributes()\n",
    "print()\n",
    "class2.print_attributes()"
   ]
  },
  {
   "cell_type": "code",
   "execution_count": null,
   "id": "851fc800-2971-4a89-a629-7918e94cdb99",
   "metadata": {},
   "outputs": [],
   "source": [
    "jon = np.array([1, 2, 3])\n",
    "jim = jon[1]\n",
    "jon[1] *= 10\n",
    "jim *= 100\n",
    "jim, jon"
   ]
  },
  {
   "cell_type": "code",
   "execution_count": null,
   "id": "56ec5c66-ec64-4335-966a-637b2b180122",
   "metadata": {},
   "outputs": [],
   "source": [
    "a1 = [1, 2, 3]\n",
    "a2 = a1[:]\n",
    "a1[0] *= 10\n",
    "a2[1] *= 100\n",
    "\n",
    "a1, a2"
   ]
  },
  {
   "cell_type": "code",
   "execution_count": null,
   "id": "d795a7d0-db6a-4de5-bbdd-ec0ce7b44981",
   "metadata": {},
   "outputs": [],
   "source": [
    "my_tree = Tree()\n",
    "\n",
    "my_network = PatternsNet(\n",
    "    in_channels=102, # 102 for the number of state planes: 18 for tokens, 72 for order, 12 for bowl tokens\n",
    "    out_channels=64,\n",
    ").to(my_device)\n"
   ]
  },
  {
   "cell_type": "code",
   "execution_count": null,
   "id": "1f8115ab-4ebc-499a-a70d-b59d04b9d3d0",
   "metadata": {},
   "outputs": [],
   "source": [
    "    \n",
    "# flow to leaf:\n",
    "leaf_node = my_tree.get_leaf_node()\n"
   ]
  },
  {
   "cell_type": "code",
   "execution_count": null,
   "id": "50bb0275-4627-4cce-b0e6-bc4f96b46d19",
   "metadata": {},
   "outputs": [],
   "source": [
    "leaf_node = leaf_node.expand()\n"
   ]
  },
  {
   "cell_type": "code",
   "execution_count": null,
   "id": "8ab4e1b2-b276-4e7c-a444-b7297af8e740",
   "metadata": {},
   "outputs": [],
   "source": [
    "leaf_node.game.turn_number"
   ]
  },
  {
   "cell_type": "code",
   "execution_count": null,
   "id": "9420cadd-af66-4826-9d77-20f97c1dba39",
   "metadata": {},
   "outputs": [],
   "source": [
    "leaf_node.value_score, leaf_node.policy_vector"
   ]
  },
  {
   "cell_type": "code",
   "execution_count": null,
   "id": "8a4c1559-b967-41f3-90f7-c7db58449cb2",
   "metadata": {},
   "outputs": [],
   "source": [
    "leaf_game = leaf_node.game\n",
    "root_game =  my_tree.root_node.game\n",
    "\n",
    "root_game.active_color_groups is leaf_game.active_color_groups"
   ]
  },
  {
   "cell_type": "code",
   "execution_count": null,
   "id": "8ada4913-141f-4606-a686-5ea035c5aa24",
   "metadata": {},
   "outputs": [],
   "source": [
    "\n",
    "leaf_tensor = leaf_node.get_tensor_state()\n",
    "tensor_stack = torch.stack([leaf_tensor])\n",
    "\n",
    "with torch.inference_mode():\n",
    "    value_stack, policy_stack = my_network(tensor_stack.float().to(my_device))\n",
    "\n",
    "value_stack = value_stack.cpu().numpy()[0]\n",
    "policy_stack = policy_stack.cpu().numpy()[0]\n",
    "leaf_node.value_score = value_stack\n",
    "leaf_node.policy_vector = policy_stack[leaf_node.possible_actions]"
   ]
  },
  {
   "cell_type": "code",
   "execution_count": null,
   "id": "e2226f92-7e57-4d1a-8c1a-c60fe99e754c",
   "metadata": {},
   "outputs": [],
   "source": [
    "my_tree.back_propagate(leaf_node)"
   ]
  },
  {
   "cell_type": "code",
   "execution_count": null,
   "id": "fbafac9d-b4a2-45da-998e-38b97dafbe94",
   "metadata": {},
   "outputs": [],
   "source": [
    "np.array([np.inf] * 10, dtype=float)"
   ]
  },
  {
   "cell_type": "code",
   "execution_count": null,
   "id": "f7eec64a-0c56-47b2-87a7-fae8151be949",
   "metadata": {},
   "outputs": [],
   "source": [
    "my_tree.root_node.game.turn_number"
   ]
  },
  {
   "cell_type": "code",
   "execution_count": null,
   "id": "d93cbe2e-564b-4185-9e12-2d88072d9a53",
   "metadata": {},
   "outputs": [],
   "source": [
    "\n",
    "# choose a random child of the leaf node, if not first visit:\n",
    "leaf_node = leaf_node.expand()\n",
    "\n",
    "# collect the actions that lead here:\n",
    "_climber = leaf_node\n",
    "_act = []\n",
    "\n",
    "while _climber.parent:\n",
    "    _act.append(_climber.parent.possible_actions[_climber.parent_action_arg])\n",
    "    _climber = _climber.parent\n",
    "\n",
    "leaf_tensor = leaf_node.get_tensor_state()\n",
    "tensor_stack = torch.stack([leaf_tensor])\n",
    "\n",
    "with torch.inference_mode():\n",
    "    value_stack, policy_stack = my_network(tensor_stack.float().to(my_device))\n",
    "\n",
    "value_stack = value_stack.cpu().numpy()[0]\n",
    "policy_stack = policy_stack.cpu().numpy()[0]\n",
    "leaf_node.value_score = value_stack\n",
    "leaf_node.policy_vector = policy_stack[leaf_node.possible_actions]\n",
    "my_tree.back_propagate(leaf_node)\n",
    "\n",
    "# plot the leaf node, the root node, etc:\n",
    "print(f\"Root Node:\")\n",
    "root_plotter = PatternPlotter(my_tree.root_node.game, fig_size=(7, 4))\n",
    "root_plotter.plot()\n",
    "\n",
    "print(f\"Leaf Node:\")\n",
    "leaf_plotter = PatternPlotter(leaf_node.game, fig_size=(7, 4))\n",
    "leaf_plotter.plot()\n",
    "\n",
    "\n",
    "print(f\"\\nActions that lead here: {_act[::-1]}\")\n",
    "print(f\"\\nThe active color order: {leaf_node.game.active_color_order}\")\n",
    "print(f\"\\nThe passive color order: {leaf_node.game.passive_color_order}\")\n",
    "print(f\"--_-_-_-_-_-_-_-_-_-_-_\\n\\n\\n\")"
   ]
  },
  {
   "cell_type": "code",
   "execution_count": null,
   "id": "6a7539cf-d966-44c6-b517-a72a5ebe1042",
   "metadata": {},
   "outputs": [],
   "source": [
    "my_tree.root_node.children, my_tree.root_node.visit_count, my_tree.root_node.possible_actions, my_tree.root_node.value_score, my_tree.root_node.policy_vector"
   ]
  },
  {
   "cell_type": "code",
   "execution_count": null,
   "id": "c069d43e-76de-48f5-a56d-2326821145e2",
   "metadata": {},
   "outputs": [],
   "source": [
    "jim = {1:2, 2:3, 3:4}\n",
    "james = dict(jim)\n",
    "jim[4] = 5\n",
    "james[5] = 4\n",
    "jim, james"
   ]
  },
  {
   "cell_type": "code",
   "execution_count": null,
   "id": "8d0316f8-9fb0-42dc-a5e8-576afa7e82e6",
   "metadata": {},
   "outputs": [],
   "source": [
    "leaf_node.game.active_board, leaf_node.game.passive_board, leaf_node.parent_action_arg"
   ]
  },
  {
   "cell_type": "code",
   "execution_count": null,
   "id": "d22495b1-f709-4a55-b63f-97aea1237f93",
   "metadata": {},
   "outputs": [],
   "source": [
    "leaf_node.parent.game.active_board, leaf_node.parent.game.passive_board, leaf_node.parent.possible_actions[32]"
   ]
  },
  {
   "cell_type": "code",
   "execution_count": null,
   "id": "26e71b10-97ac-4378-b528-81c7be2a5d43",
   "metadata": {},
   "outputs": [],
   "source": [
    "leaf_node.parent.game.active_color_groups"
   ]
  },
  {
   "cell_type": "code",
   "execution_count": null,
   "id": "9ed582e2-ac47-4a54-a3ef-8b3d96d47580",
   "metadata": {},
   "outputs": [],
   "source": [
    "leaf_node.parent.parent.parent.game.active_color_groups"
   ]
  },
  {
   "cell_type": "code",
   "execution_count": null,
   "id": "82db2f77-165f-4268-a390-cdd19446d951",
   "metadata": {},
   "outputs": [],
   "source": [
    "leaf_node.game.active_bowl_token, leaf_node.game.active_color_groups"
   ]
  },
  {
   "cell_type": "code",
   "execution_count": null,
   "id": "d9dc8e46-78ec-4f68-8979-3db22eb4f53a",
   "metadata": {},
   "outputs": [],
   "source": [
    "my_network = PatternsNet(\n",
    "    in_channels=102, # 102 for the number of state planes: 18 for tokens, 72 for order, 12 for bowl tokens\n",
    "    out_channels=64,\n",
    ")\n",
    "\n",
    "my_agent = Agent(\n",
    "    agent_id='1', \n",
    "    network = my_network,\n",
    "    device = my_device,\n",
    "    num_trees = 1, \n",
    "    explore_steps=100, \n",
    "    target_games=1,\n",
    "    selection_temperature=1.0\n",
    ")"
   ]
  },
  {
   "cell_type": "code",
   "execution_count": null,
   "id": "4139539c-3a2c-4d15-bb14-08cd9078cb00",
   "metadata": {},
   "outputs": [],
   "source": [
    "my_agent.trees[0].root_node.value_score"
   ]
  },
  {
   "cell_type": "code",
   "execution_count": null,
   "id": "968dc6bc-37ab-47b1-be92-c04c61ba74a0",
   "metadata": {},
   "outputs": [],
   "source": [
    "my_agent.run_games()"
   ]
  },
  {
   "cell_type": "code",
   "execution_count": null,
   "id": "b8f6f78d-0bd5-4195-9a80-de353cacf8cf",
   "metadata": {},
   "outputs": [],
   "source": [
    "my_patterns = Patterns()\n",
    "still_placing = True\n",
    "\n",
    "while True:\n",
    "    print(f\"Turn {my_patterns.turn_number}, for Player {my_patterns.player + 1}\")\n",
    "    print(f\"Score is currently:\")\n",
    "    active_score, passive_score = my_patterns.calculate_score()\n",
    "    \n",
    "    p1_score = active_score if my_patterns.player == 0 else passive_score\n",
    "    p2_score = active_score if my_patterns.player == 1 else passive_score\n",
    "    \n",
    "    print(f\"Player 1: {p1_score} -- {p2_score}: Player 2\")\n",
    "    \n",
    "    actions = my_patterns.get_actions() \n",
    "    print(f\"Available actions are: \\n{actions}\")\n",
    "    \n",
    "    if my_patterns.is_no_more_placing is True and still_placing is True:\n",
    "        still_placing = False\n",
    "        print(f\"###########################\")\n",
    "        print(f\"ALERT: no more placing moves from now on!\")\n",
    "        print(f\"###########################\")\n",
    "        \n",
    "    action = random.choice(actions)\n",
    "    print(f\"action taken is: {action}\")\n",
    "    is_terminal, _result = my_patterns.step(action)\n",
    "\n",
    "    if is_terminal:\n",
    "        break\n",
    "        \n",
    "    for _col in range(6):\n",
    "        if (my_patterns.active_color_order[_col] > 0) or (my_patterns.passive_color_order[_col] > 0):\n",
    "            print(f\"Color: {_col}\")\n",
    "            print(f\"Active flipping groups: {my_patterns.active_flipping_groups[_col]}\")\n",
    "            print(f\"Active placing groups: {my_patterns.active_placing_groups[_col]}\")\n",
    "            print(f\"Passive flipping groups: {my_patterns.passive_flipping_groups[_col]}\")\n",
    "            print(f\"Passive placing groups: {my_patterns.passive_placing_groups[_col]}\\n\")\n",
    "            \n",
    "    pattern_plotter = PatternPlotter(my_patterns, fig_size=(10, 7.5))\n",
    "    pattern_plotter.populate_board()\n",
    "\n",
    "print(f\"Game finished! Result is: {_result}\")\n",
    "\n",
    "pattern_plotter.populate_board()"
   ]
  },
  {
   "cell_type": "code",
   "execution_count": null,
   "id": "eb91b1e1-dfc3-49e1-8732-e75921764742",
   "metadata": {},
   "outputs": [],
   "source": [
    "print()\n",
    "print(my_patterns.player, my_patterns.active_board, my_patterns.active_bowl_token, )\n",
    "\n",
    "actions = my_patterns.get_actions()\n",
    "\n",
    "print(f\"Available actions are: {actions}\\n\")\n",
    "\n",
    "action = random.choice(actions)\n",
    "\n",
    "print(f\"action taken is: {action}\\n\")\n",
    "\n",
    "my_patterns.step(action)\n",
    "\n",
    "print(my_patterns.player, my_patterns.active_board, my_patterns.active_bowl_token)\n",
    "\n",
    "pattern_plotter = PatternPlotter(my_patterns, fig_size=(10, 7.5))\n",
    "pattern_plotter.populate_board()"
   ]
  },
  {
   "cell_type": "code",
   "execution_count": null,
   "id": "f55b0a81-e778-4f66-ac8b-3db0f90d2de6",
   "metadata": {},
   "outputs": [],
   "source": [
    "def play_random_patterns(num_iterations: int) -> None:\n",
    "    \"\"\" play a set number of random games\n",
    "    \"\"\"\n",
    "    num_turns = [0] * num_iterations\n",
    "    \n",
    "    for it in range(num_iterations):\n",
    "        patterns_game = Patterns()\n",
    "\n",
    "        while True:\n",
    "            actions = patterns_game.get_actions()\n",
    "            action = random.choice(actions)\n",
    "            is_terminal, result = patterns_game.step(action)\n",
    "            \n",
    "            if is_terminal:\n",
    "                break\n",
    "        num_turns[it] = patterns_game.turn_number\n",
    "\n",
    "    return num_turns"
   ]
  },
  {
   "cell_type": "code",
   "execution_count": null,
   "id": "49b0e435-c671-46fb-a54e-d41590233a89",
   "metadata": {},
   "outputs": [],
   "source": [
    "_res = play_random_patterns(10000)"
   ]
  },
  {
   "cell_type": "code",
   "execution_count": null,
   "id": "dacef363-fb98-4505-a81e-2d1f0bccae19",
   "metadata": {},
   "outputs": [],
   "source": [
    "np.sum(_res) / 10000"
   ]
  },
  {
   "cell_type": "code",
   "execution_count": null,
   "id": "3e1b910f-c435-44e3-8601-4c28e5d78bc2",
   "metadata": {},
   "outputs": [],
   "source": [
    "len({1, 2, 3})"
   ]
  },
  {
   "cell_type": "code",
   "execution_count": null,
   "id": "aa26f953-4cab-4522-9952-6ea551137206",
   "metadata": {},
   "outputs": [],
   "source": [
    "%prun play_random_patterns(10000)\n"
   ]
  },
  {
   "cell_type": "code",
   "execution_count": null,
   "id": "b7546070-969d-4f29-a9ef-b468d6b104c5",
   "metadata": {},
   "outputs": [],
   "source": [
    "def test_set_minus(num_it):\n",
    "    my_dict = {_num: set(range(100)) for _num in range(6)}\n",
    "\n",
    "    for it in range(10000):\n",
    "        for _col in range(6):\n",
    "            my_dict[_col] -= {11}\n",
    "            \n",
    "def test_set_minus_2(num_it):\n",
    "    my_dict = {_num: set(range(100)) for _num in range(6)}\n",
    "\n",
    "    for it in range(10000):\n",
    "        for _col in range(6):\n",
    "            my_dict[_col] -= {11}"
   ]
  },
  {
   "cell_type": "code",
   "execution_count": null,
   "id": "e766c4a2-f353-4bee-82e9-d1f9eed524ee",
   "metadata": {},
   "outputs": [],
   "source": [
    "%prun test_set_minus(100000)"
   ]
  },
  {
   "cell_type": "code",
   "execution_count": null,
   "id": "fe3a4128-49c6-4c18-888e-1d8f25524221",
   "metadata": {},
   "outputs": [],
   "source": [
    "%prun test_set_minus_2(100000)\n"
   ]
  },
  {
   "cell_type": "code",
   "execution_count": null,
   "id": "751bcde6-ec29-4a12-bf93-c83ee8628733",
   "metadata": {},
   "outputs": [],
   "source": [
    "from matplotlib import patches\n",
    "import matplotlib.pyplot as plt\n",
    "import numpy as np\n",
    "\n",
    "token_center = (0.0, 0.0)\n",
    "outrad = 0.35\n",
    "inrad = 0.28\n",
    "num_points = 7\n",
    "arc = 2. * np.pi / num_points\n",
    "\n",
    "patch_coords_1 = [\n",
    "    [token_center[0] + outrad * np.cos(arc * _it),\n",
    "     token_center[1] + outrad * np.sin(arc * _it)]\n",
    "    for _it in range(num_points)\n",
    "]\n",
    "                \n",
    "patch_coords_2 = [\n",
    "    [token_center[0] + inrad * np.cos((arc / 2) + arc * _it),\n",
    "     token_center[1] + inrad * np.sin((arc / 2) + arc * _it)]\n",
    "    for _it in range(num_points)\n",
    "]\n",
    "\n",
    "patch_coords = []\n",
    "for p1, p2 in zip(patch_coords_1, patch_coords_2):\n",
    "    patch_coords.append(p1)\n",
    "    patch_coords.append(p2)\n",
    "    \n",
    "fig, ax = plt.subplots()\n",
    "ax.add_patch(patches.Polygon(patch_coords, facecolor='red', edgecolor='black', linewidth=0.5))\n",
    "# ax.add_patch(patches.Polygon(patch_coords_1))\n",
    "# ax.add_patch(patches.Polygon(patch_coords_2))\n",
    "\n",
    "ax.set_xlim([-2., 2.])\n",
    "ax.set_ylim([-2., 2.])\n",
    "ax.set_aspect('equal')"
   ]
  },
  {
   "cell_type": "code",
   "execution_count": null,
   "id": "4c6a7ec3-dec3-4914-8e8f-5ef60755666a",
   "metadata": {},
   "outputs": [],
   "source": [
    "import torch\n",
    "from torch import nn\n",
    "import math"
   ]
  },
  {
   "cell_type": "code",
   "execution_count": null,
   "id": "d9acf99e-76a3-4c5e-846c-0963a55a03d0",
   "metadata": {},
   "outputs": [],
   "source": [
    "\n",
    "class BoardInitNet(nn.Module):\n",
    "    \"\"\" initial CNN processing of the board representation:\n",
    "    \"\"\"\n",
    "    def __init__(self,\n",
    "                 in_channels: int = 3,\n",
    "                 out_channels: int = 64,\n",
    "                 ) -> None:\n",
    "        super(BoardInitNet, self).__init__()\n",
    "\n",
    "        self.init = nn.Sequential(\n",
    "            # Gather all \"local\" information for each board spot (including stuff on top)\n",
    "            nn.Conv2d(in_channels, out_channels, kernel_size=3, padding=1, stride=1),\n",
    "            nn.BatchNorm2d(out_channels),\n",
    "            nn.ReLU(),\n",
    "            nn.MaxPool2d(kernel_size=3, stride=2, padding=1),\n",
    "        )\n",
    "\n",
    "    def forward(self, x: torch.Tensor) -> torch.Tensor:\n",
    "        return self.init(x)"
   ]
  },
  {
   "cell_type": "code",
   "execution_count": null,
   "id": "f58bbc5d-0ae1-44ac-b2ae-dd43ef5ee25b",
   "metadata": {},
   "outputs": [],
   "source": [
    "my_net = BoardInitNet()\n",
    "input_tensor = torch.tensor(np.random.rand(1, 3, 8, 8)).float()\n",
    "my_net(input_tensor).shape"
   ]
  },
  {
   "cell_type": "code",
   "execution_count": null,
   "id": "6941914b-9a5c-42c2-9292-5181fa2f2345",
   "metadata": {},
   "outputs": [],
   "source": [
    "my_patterns.active_board\n"
   ]
  },
  {
   "cell_type": "code",
   "execution_count": null,
   "id": "8dafd72b-c0aa-40fd-9131-bb73ba39447d",
   "metadata": {},
   "outputs": [],
   "source": [
    "my_one_hot = torch.nn.functional.one_hot(torch.tensor(my_patterns.active_board).long(), num_classes=18)"
   ]
  },
  {
   "cell_type": "code",
   "execution_count": null,
   "id": "d6aabaa9-c1f4-42ed-aada-c41b1ca46016",
   "metadata": {},
   "outputs": [],
   "source": [
    "torch.nn.functional.one_hot(torch.tensor(my_patterns.active_color_order).long() - 1, num_classes=6)\n"
   ]
  },
  {
   "cell_type": "code",
   "execution_count": null,
   "id": "9e1bfad8-eb39-4e4c-a9ff-fcd4355aac06",
   "metadata": {},
   "outputs": [],
   "source": [
    "my_tens = torch.empty((8, 8, 36), dtype=bool)\n",
    "for _it, _order in enumerate(my_patterns.active_color_order):\n",
    "    my_tens[:, :, _it * 6 + _order] = 1\n",
    "\n",
    "my_tens.int().shape"
   ]
  },
  {
   "cell_type": "code",
   "execution_count": null,
   "id": "0135000e-0afa-4784-96e4-03f51c344957",
   "metadata": {},
   "outputs": [],
   "source": [
    "# the board is just a one hot encoded version of the numpy board:\n",
    "board_tensor = torch.nn.functional.one_hot(torch.tensor(my_patterns.active_board).long(), num_classes=18)\n",
    "\n",
    "# 36 channels for each player for color group: order mapping:\n",
    "order_tensor = torch.empty((8, 8, 72), dtype=bool)\n",
    "for _it, (active_order, passive_order) in enumerate(zip(my_patterns.active_color_order, my_patterns.passive_color_order)):\n",
    "    order_tensor[:, :, _it * 6 + active_order] = 1\n",
    "    order_tensor[:, :, 36 + _it * 6 + passive_order] = 1\n",
    "    \n",
    "# bowl tokens:\n",
    "bowl_tensor = torch.empty((8, 8, 12), dtype=bool)\n",
    "bowl_tensor[:, :, my_patterns.active_bowl_token] = 1\n",
    "bowl_tensor[:, :, 6 + my_patterns.passive_bowl_token] = 1\n",
    "\n",
    "newtens =  torch.cat([board_tensor, order_tensor, bowl_tensor], dim=-1)"
   ]
  },
  {
   "cell_type": "code",
   "execution_count": null,
   "id": "f87ed713-2b59-4873-aa14-86f1801308bb",
   "metadata": {},
   "outputs": [],
   "source": [
    "newtens"
   ]
  },
  {
   "cell_type": "code",
   "execution_count": null,
   "id": "33d72cfe-582c-4065-8cb1-aa28519c89bb",
   "metadata": {},
   "outputs": [],
   "source": [
    "newtens.shape"
   ]
  },
  {
   "cell_type": "code",
   "execution_count": null,
   "id": "6a687aed-1908-4245-a155-0a1fbffb90d5",
   "metadata": {},
   "outputs": [],
   "source": [
    "72 + 18 + 12"
   ]
  },
  {
   "cell_type": "code",
   "execution_count": null,
   "id": "d6ac3c74-e51e-46f4-9818-f31c6541d596",
   "metadata": {},
   "outputs": [],
   "source": [
    "\"\"\" Value and Policy Neural Networks defined in PyTorch for use in the MCTS algorithm:\n",
    "\n",
    "State input is 8x8x102, which completely describes the current markov state.\n",
    "\n",
    "Note that if we ever move to using a transformer, it may not be necessary to continue storing the state in this way\n",
    "\n",
    "We create a CNN for the board, and MLPs for the other states.\n",
    "\n",
    "We want to munge the conv net on the board state and the state vectors early on...\n",
    "\n",
    "For now, we do all the CNN resnet stuff, followed by the MLP fully connected layers\n",
    "to blend the state with the image.\n",
    "\"\"\"\n",
    "import torch\n",
    "from torch import nn\n",
    "import math\n",
    "\n",
    "\n",
    "class PatternsNet(nn.Module):\n",
    "    \"\"\" Take in the initial munging of the board and player states, and perform standard resnet\n",
    "    fun on it:\n",
    "    \"\"\"\n",
    "    def __init__(self,\n",
    "                 in_channels: int = 102,\n",
    "                 out_channels: int = 64,\n",
    "                 ) -> None:\n",
    "        \"\"\" 102 in channels for patterns. 18 for color and player, 72 for color group order, 12 for bowl tokens.\n",
    "         \"\"\"\n",
    "        super(PatternsNet, self).__init__()\n",
    "\n",
    "        # initial processing layer: output size (samples, out_channels, 8, 8)\n",
    "        self.input_layer = nn.Sequential(\n",
    "            nn.Conv2d(in_channels, out_channels, kernel_size=3, padding=1, stride=1),\n",
    "            nn.BatchNorm2d(out_channels),\n",
    "            nn.ReLU(),\n",
    "            # nn.MaxPool2d(kernel_size=3, stride=2, padding=1)\n",
    "        )\n",
    "\n",
    "        # Downsampling layers:\n",
    "        self.down1 = ResidualLayer(in_channels=out_channels, stride=2)\n",
    "        out_channels *= 2\n",
    "        self.down2 = ResidualLayer(in_channels=out_channels, stride=2)\n",
    "        out_channels *= 2\n",
    "\n",
    "        # Standard resnet layers:\n",
    "        self.standard1 = ResidualLayer(in_channels=out_channels, stride=1)\n",
    "        self.standard2 = ResidualLayer(in_channels=out_channels, stride=1)\n",
    "\n",
    "        # different heads:\n",
    "        self.twoheadlayer = TwoHeadNet(in_channels=out_channels,\n",
    "                                       value_out_channels=out_channels // 16,\n",
    "                                       policy_out_channels=out_channels // 4,\n",
    "                                       action_space=(106,))\n",
    "\n",
    "    def forward(self, x: torch.Tensor) -> tuple[torch.Tensor, torch.Tensor]:\n",
    "        \"\"\" pass the input through the initial conv layer, expanding input channels to the number\n",
    "        of filters required, before passing through the residual blocks \"\"\"\n",
    "        x = self.input_layer(x)\n",
    "        x = self.down2(self.down1(x))\n",
    "        x = self.standard2(self.standard1(x))\n",
    "\n",
    "        return self.twoheadlayer(x)\n",
    "\n",
    "\n",
    "class TwoHeadNet(nn.Module):\n",
    "    \"\"\" Two different heads, attached to resnet backbone:\n",
    "\n",
    "    One head addresses the policy prediction (with action-space number of neurons)\n",
    "    one head addresses the value prediction (with a single neuron output, scaled to -1, 1\n",
    "    \"\"\"\n",
    "    def __init__(self,\n",
    "                 in_channels: int,\n",
    "                 value_out_channels: int,\n",
    "                 policy_out_channels: int,\n",
    "                 action_space: tuple = (106,)) -> None:\n",
    "        super(TwoHeadNet, self).__init__()\n",
    "        self.action_space = action_space\n",
    "\n",
    "        # output is float between -1 and 1 estimating board state\n",
    "        self.value_head = nn.Sequential(\n",
    "            # final bespoke convolutional layer for value:\n",
    "            nn.Conv2d(in_channels, value_out_channels, kernel_size=3, padding=1, stride=1),# bias=False),\n",
    "            nn.BatchNorm2d(value_out_channels),\n",
    "            nn.ReLU(),\n",
    "            nn.AdaptiveAvgPool2d(output_size=(1, 1)),\n",
    "            # squash to flat:\n",
    "            nn.Flatten(),\n",
    "            nn.Linear(in_features=value_out_channels, out_features=1),\n",
    "            # squish to between -1 and 1 to estimate the result of the game:\n",
    "            nn.Tanh(),\n",
    "        )\n",
    "\n",
    "        # output is logits for softmax to give distribution over action space\n",
    "        self.policy_head = nn.Sequential(\n",
    "            nn.Conv2d(in_channels, policy_out_channels, kernel_size=3, padding=1, stride=1),# bias=False),\n",
    "            nn.BatchNorm2d(policy_out_channels),\n",
    "            nn.ReLU(),\n",
    "            nn.AdaptiveAvgPool2d(output_size=(1, 1)),\n",
    "            nn.Flatten(),\n",
    "            nn.Linear(in_features=policy_out_channels, out_features=math.prod(action_space)),\n",
    "        )\n",
    "\n",
    "    def forward(self, x: torch.Tensor) -> tuple[torch.Tensor, torch.Tensor]:\n",
    "        \"\"\" produce both outputs \"\"\"\n",
    "        value_x = self.value_head(x)\n",
    "        policy_x = self.policy_head(x).view((-1, *self.action_space))\n",
    "\n",
    "        return value_x, policy_x\n",
    "\n",
    "\n",
    "class ResidualLayer(nn.Module):\n",
    "    \"\"\" Stick two residual basic blocks together, apply down-sampling as required:\n",
    "    \"\"\"\n",
    "    def __init__(self,\n",
    "                 in_channels: int = 128,\n",
    "                 stride: int = 1) -> None:\n",
    "        super(ResidualLayer, self).__init__()\n",
    "\n",
    "        # The first block can be a down-sampling layer:\n",
    "        self.basic_block_1 = ResidualBlock(in_channels=in_channels, stride=stride)\n",
    "        self.basic_block_2 = ResidualBlock(in_channels=in_channels * stride, stride=1)\n",
    "\n",
    "    def forward(self, x: torch.Tensor) -> torch.Tensor:\n",
    "        \"\"\" basic_block_1 will return x + conv(x)\n",
    "        \"\"\"\n",
    "        x1 = self.basic_block_1(x)\n",
    "        return self.basic_block_2(x1)\n",
    "\n",
    "\n",
    "class ResidualBlock(nn.Module):\n",
    "    \"\"\" A residual block of a resnet.\n",
    "\n",
    "    Note that channels in and out are assumed equal, to allow for addition with manipulation.\n",
    "    \"\"\"\n",
    "    def __init__(self,\n",
    "                 in_channels: int,\n",
    "                 stride: int = 1) -> None:\n",
    "        super(ResidualBlock, self).__init__()\n",
    "\n",
    "        self.is_downsample = True if stride != 1 else False\n",
    "\n",
    "        out_channels = stride * in_channels\n",
    "\n",
    "        # first layer can be downsample:\n",
    "        self.conv_1 = nn.Sequential(\n",
    "            nn.Conv2d(in_channels, out_channels, kernel_size=3, stride=stride, padding=1),\n",
    "            nn.BatchNorm2d(out_channels),\n",
    "            nn.ReLU(),\n",
    "        )\n",
    "\n",
    "        self.conv_2 = nn.Sequential(\n",
    "            nn.Conv2d(out_channels, out_channels, kernel_size=3, stride=1, padding=1),\n",
    "            nn.BatchNorm2d(out_channels)\n",
    "        )\n",
    "\n",
    "        # if downsampling, also downsample the residual for consistent tensor size:\n",
    "        if self.is_downsample:\n",
    "            # skip block needs a 1x1 conv to increase in channels:\n",
    "            self.downsample = nn.Sequential(\n",
    "                nn.Conv2d(in_channels, out_channels, kernel_size=1, stride=stride),\n",
    "                nn.BatchNorm2d(out_channels),\n",
    "            )\n",
    "\n",
    "        self.relu = nn.ReLU()\n",
    "\n",
    "    def forward(self, x: torch.Tensor) -> torch.Tensor:\n",
    "        \"\"\" conv block applied to x, with skip connection to allow for robust residual training \"\"\"\n",
    "        residual = x if not self.is_downsample else self.downsample(x)\n",
    "        return self.relu(residual + self.conv_2(self.conv_1(x)))\n"
   ]
  },
  {
   "cell_type": "code",
   "execution_count": null,
   "id": "b5877b17-54ee-43bf-ad83-e673c3fa8a9a",
   "metadata": {},
   "outputs": [],
   "source": [
    "def get_tensor_state(game) -> torch.Tensor:\n",
    "    \"\"\" Use the game state to form a torch tensor that can be used to eval the position\n",
    "\n",
    "    Currently, the history is not included, but it might be in the future.\n",
    "\n",
    "    The tensor state is 8 x 8 x (6x3 + 6x6 + 6x6 + 2x6) binary tensor.\n",
    "\n",
    "    The first 6x3 planes represent the board itself, with planes 0-5 denoting the presence of an unflipped token\n",
    "    of that color, 6-11 representing flipped for active player of that color, and 12-17 flipped for passive player.\n",
    "\n",
    "    This matches the numpy array, one-hot-encoded.\n",
    "\n",
    "    The next 2x6x6 planes represent the color group order taken, for each player.\n",
    "\n",
    "    In particular, these planes are constant 1 or constant 0.\n",
    "    Planes 0-5 represent the order at which color 0 was taken for the active player\n",
    "    Planes 6-11 represent the order at which color 1 was taken for the active player etc.\n",
    "\n",
    "    Planes 36 - 41 represent the order at which color 0 was taken for the passive player.\n",
    "    Planes 42 - 47 represent the order at which color 1 was taken for the passive player etc.\n",
    "\n",
    "    Finally, the final 12 planes represent the color of the bowl token for the active player (0-5) and the\n",
    "    passive player (6-11).\n",
    "    \"\"\"\n",
    "    # the board is just a one hot encoded version of the numpy board:\n",
    "    board_tensor = torch.nn.functional.one_hot(torch.tensor(game.active_board).long(), num_classes=18)\n",
    "\n",
    "    # 36 channels for each player for color group: order mapping:\n",
    "    order_tensor = torch.zeros((8, 8, 72), dtype=bool)\n",
    "    for _it, (active_order, passive_order) in enumerate(zip(game.active_color_order, game.passive_color_order)):\n",
    "        if active_order > 0:\n",
    "            order_tensor[:, :, _it * 6 + active_order - 1] = 1\n",
    "\n",
    "        if passive_order > 0:\n",
    "            order_tensor[:, :, 36 + _it * 6 + passive_order - 1] = 1\n",
    "\n",
    "    # bowl tokens:\n",
    "    bowl_tensor = torch.zeros((8, 8, 12), dtype=bool)\n",
    "    bowl_tensor[:, :, game.active_bowl_token] = 1\n",
    "    bowl_tensor[:, :, 6 + game.passive_bowl_token] = 1\n",
    "    concat_tensor = torch.cat([board_tensor, order_tensor, bowl_tensor], dim=-1)\n",
    "\n",
    "    return concat_tensor.permute(2, 0, 1)\n"
   ]
  },
  {
   "cell_type": "code",
   "execution_count": null,
   "id": "f1360512-7d92-45e8-a69d-cd21cd34699e",
   "metadata": {},
   "outputs": [],
   "source": [
    "my_tens = get_tensor_state(my_patterns)\n",
    "device = torch.device('cuda')\n",
    "pnet = PatternsNet()\n",
    "pnet.to(device)\n",
    "my_tens = my_tens.to(device).float()\n"
   ]
  },
  {
   "cell_type": "code",
   "execution_count": null,
   "id": "d568d10d-507a-4a45-b879-3c2ac312c27b",
   "metadata": {},
   "outputs": [],
   "source": [
    "out1 = pnet.input_layer(my_tens[None])\n",
    "out2 = pnet.down1(out1)\n",
    "out3 = pnet.down2(out2)\n",
    "out4 = pnet.standard1(out3)\n",
    "out5 = pnet.standard2(out4)\n",
    "out6 = pnet.twoheadlayer(out5)"
   ]
  },
  {
   "cell_type": "code",
   "execution_count": null,
   "id": "17333f9d-c737-4bf8-b1fb-f9a86cca7815",
   "metadata": {},
   "outputs": [],
   "source": [
    "out1.shape, out2.shape, out3.shape, out4.shape, out5.shape, out6[0].shape, out6[1].shape"
   ]
  },
  {
   "cell_type": "code",
   "execution_count": null,
   "id": "eda6d84d-0fc5-4fbe-a7f0-70911441f85a",
   "metadata": {},
   "outputs": [],
   "source": [
    "# the board is just a one hot encoded version of the numpy board:\n",
    "board_tensor = torch.nn.functional.one_hot(torch.tensor(my_patterns.active_board).long(), num_classes=18)\n",
    "\n",
    "# 36 channels for each player for color group: order mapping:\n",
    "order_tensor = torch.zeros((8, 8, 72), dtype=bool)\n",
    "for _it, (active_order, passive_order) in enumerate(zip(my_patterns.active_color_order, my_patterns.passive_color_order)):\n",
    "    if active_order > 0:\n",
    "        order_tensor[:, :, _it * 6 + active_order - 1] = 1\n",
    "\n",
    "    if passive_order > 0:\n",
    "        order_tensor[:, :, 36 + _it * 6 + passive_order - 1] = 1\n",
    "\n",
    "# bowl tokens:\n",
    "bowl_tensor = torch.zeros((8, 8, 12), dtype=bool)\n",
    "bowl_tensor[:, :, my_patterns.active_bowl_token] = 1\n",
    "bowl_tensor[:, :, 6 + my_patterns.passive_bowl_token] = 1\n",
    "\n",
    "concat_tensor = torch.cat([board_tensor, order_tensor, bowl_tensor], dim=-1)"
   ]
  },
  {
   "cell_type": "code",
   "execution_count": null,
   "id": "02a0cd6b-6374-4949-ad76-c5027f4360d8",
   "metadata": {},
   "outputs": [],
   "source": [
    "my_patterns.active_bowl_token, my_patterns.passive_bowl_token"
   ]
  },
  {
   "cell_type": "code",
   "execution_count": null,
   "id": "f28a2253-1183-439d-8247-0e3a6108eea3",
   "metadata": {},
   "outputs": [],
   "source": [
    "bowl_tensor[:, :, -1]"
   ]
  },
  {
   "cell_type": "code",
   "execution_count": null,
   "id": "ad6835e0-7814-4008-8772-c257e8d476da",
   "metadata": {},
   "outputs": [],
   "source": [
    "my_tensor = torch.zeros((2, 3, 4), dtype=int)\n",
    "my_tensor[:, :, 0]"
   ]
  },
  {
   "cell_type": "code",
   "execution_count": null,
   "id": "91c8c903-72af-4d9c-9f6f-55f5d9679f5d",
   "metadata": {},
   "outputs": [],
   "source": [
    "my_patterns.active_color_order\n"
   ]
  },
  {
   "cell_type": "code",
   "execution_count": null,
   "id": "2401af4e-47f2-43c3-add9-e3a8782a7d2a",
   "metadata": {},
   "outputs": [],
   "source": [
    "def test_fair_coin(p: float) -> int:\n",
    "    sample1 = random.random()\n",
    "    res1 = 0 if sample1 < p else 1\n",
    "    sprob1 = p if sample1 < p else (1 - p)\n",
    "    num_p1 = run_game(sprob1)\n",
    "    \n",
    "    sample2 = random.random()\n",
    "    res2 = 0 if sample2 < p else 1\n",
    "    sprob2 = p if sample2 < p else (1 - p)\n",
    "    num_p2 = run_game(sprob2, num_p1 + 1)\n",
    "\n",
    "    if num_p1 == num_p2:\n",
    "        if res1 != res2:\n",
    "            return 0\n",
    "            \n",
    "        return 1\n",
    "\n",
    "    return num_p1 > num_p2\n",
    "\n",
    "def run_game(sample_probability: float, num_runs: int = 100000000) -> int:\n",
    "    \"\"\" determine the number of successes before you hit a transition\n",
    "    that is hhhhh...hhht or ttttt..... tttth\n",
    "    \"\"\"\n",
    "    count = 0\n",
    "    num = 1\n",
    "    sample = random.random()\n",
    "    \n",
    "    while sample < sample_probability:\n",
    "        num += 1\n",
    "        count += 1\n",
    "        sample = random.random()\n",
    "        \n",
    "        if count >= num_runs:\n",
    "            break\n",
    "\n",
    "    return num\n",
    "        \n",
    "def collect_dist(p: float, num_samples: int) -> int:\n",
    "    res = 0\n",
    "    for it in range(num_samples):\n",
    "        res += int(test_fair_coin(p))\n",
    "\n",
    "    return res\n",
    "\n",
    "num_samples = 1000000\n",
    "res = collect_dist(p=0.2, num_samples=num_samples)\n",
    " \n",
    "res / num_samples"
   ]
  },
  {
   "cell_type": "code",
   "execution_count": null,
   "id": "e34e4037-735c-4a20-99b5-130bf5572a38",
   "metadata": {},
   "outputs": [],
   "source": []
  },
  {
   "cell_type": "code",
   "execution_count": null,
   "id": "32c949bf-389f-4f6e-8a33-81350306c364",
   "metadata": {},
   "outputs": [],
   "source": [
    "import matplotlib.pyplot as plt\n"
   ]
  },
  {
   "cell_type": "code",
   "execution_count": null,
   "id": "cb9cfec5-33b3-4d5c-8d00-fd704ec9fbaa",
   "metadata": {},
   "outputs": [],
   "source": [
    "p = 0.3\n",
    "q = 1-p\n",
    "n = 1000\n",
    "tot = [0] * n\n",
    "tot2 = [0] * n\n",
    "tot3 = [0] * n\n",
    "tot4 = [0] * n\n",
    "\n",
    "for it in range(1, n + 1):\n",
    "    tot[it - 1] = (q * p ** it + p * q ** it) * (p ** (it + 1) + q ** (it + 1))\n",
    "    tot2[it - 1] = ((q * p ** it + p * q ** it) ** 2) / 2\n",
    "    tot3[it - 1] = p * q * (p ** (2 * it) + q ** (2 * it))\n",
    "    tot4[it - 1] = (p ** 2) * (q ** 2) * (p ** (2 * (it - 1)) + q ** (2 * (it - 1))) / 2\n",
    "\n",
    "print(np.sum(tot) +  np.sum(tot2))\n",
    "\n",
    "fig, ax = plt.subplots()\n",
    "ax.plot(np.cumsum(tot) + np.cumsum(tot2))\n",
    "ax.plot(np.cumsum(tot3) + np.cumsum(tot4))\n",
    "\n",
    "\n"
   ]
  },
  {
   "cell_type": "code",
   "execution_count": null,
   "id": "8c86f389-54a0-4517-8d3d-1432bd291799",
   "metadata": {},
   "outputs": [],
   "source": [
    "np.sum(tot)"
   ]
  },
  {
   "cell_type": "code",
   "execution_count": null,
   "id": "303cb0e2-f5c9-48b8-9901-704e61c6524d",
   "metadata": {},
   "outputs": [],
   "source": [
    "from int_to_board import location_to_coordinates, orthogonal_neighbors"
   ]
  },
  {
   "cell_type": "code",
   "execution_count": null,
   "id": "cc116462-6ce9-459f-a780-2cf6a56c2e14",
   "metadata": {},
   "outputs": [],
   "source": [
    "location_to_coordinates, orthogonal_neighbors"
   ]
  },
  {
   "cell_type": "code",
   "execution_count": null,
   "id": "3262c48a-d91e-4a5f-8d94-c3f001e8d903",
   "metadata": {},
   "outputs": [],
   "source": [
    "huh we only need the tensor state when it is visited for the first time... So when creating the children\n",
    "just create action arguments.\n",
    "Then if child is visited first time, get tensor state if not terminal.\n",
    "Then if child is visited second time, create game.                              "
   ]
  },
  {
   "cell_type": "code",
   "execution_count": null,
   "id": "10d6b29d-41a2-4631-940c-d70ae9a265a0",
   "metadata": {},
   "outputs": [],
   "source": [
    "active_order = [0, 0, 1, 3, 2, 0]\n",
    "passive_order = [1, 0, 2, 5, 4, 3]\n",
    "\n",
    "ind = [_x - 1 + 6 * _it for _it, _x in enumerate(active_order + passive_order) if _x > 0]\n",
    "np.array(ind)"
   ]
  },
  {
   "cell_type": "code",
   "execution_count": null,
   "id": "18c5452e-8973-4561-b015-94814ab54862",
   "metadata": {},
   "outputs": [],
   "source": [
    "my_tensor = torch.zeros((1, 1, 72))\n",
    "my_tensor[:, :, ind] = 1"
   ]
  },
  {
   "cell_type": "code",
   "execution_count": null,
   "id": "d596773f-937f-4d33-a917-34b2f3bcf4c0",
   "metadata": {},
   "outputs": [],
   "source": [
    "my_tensor"
   ]
  },
  {
   "cell_type": "code",
   "execution_count": null,
   "id": "01ddbc71-1016-4555-87a5-999352a6a5ae",
   "metadata": {},
   "outputs": [],
   "source": []
  }
 ],
 "metadata": {
  "kernelspec": {
   "display_name": "Python 3 (ipykernel)",
   "language": "python",
   "name": "python3"
  },
  "language_info": {
   "codemirror_mode": {
    "name": "ipython",
    "version": 3
   },
   "file_extension": ".py",
   "mimetype": "text/x-python",
   "name": "python",
   "nbconvert_exporter": "python",
   "pygments_lexer": "ipython3",
   "version": "3.11.5"
  }
 },
 "nbformat": 4,
 "nbformat_minor": 5
}
