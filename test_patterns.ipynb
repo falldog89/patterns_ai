{
 "cells": [
  {
   "cell_type": "code",
   "execution_count": 20,
   "id": "94d2bf6b-a3cb-46f6-90f0-e155c62cc6c8",
   "metadata": {},
   "outputs": [],
   "source": [
    "def get_state_attributes(node) -> tuple:\n",
    "    \"\"\" return the active board, the active and passive orders and the active and passive bowl tokens\n",
    "    that would belong to this node.\n",
    "\n",
    "    tuple return is:\n",
    "    board, active_order, passive_order, active_token, passive_token\n",
    "    \"\"\"\n",
    "    # collect the game and parent action argument:\n",
    "    game = copy.deepcopy(node.parent.game)\n",
    "    action = node.parent.possible_actions[node.parent_action_arg]\n",
    "    print(node.parent.possible_actions)\n",
    "    print(node.parent_action_arg)\n",
    "\n",
    "    # always use passive board, as we will swap players from the parent:\n",
    "    board = torch.tensor(game.passive_board)\n",
    "\n",
    "    # active and passive reversed to represent the swap in players after action:\n",
    "    active_order = game.passive_color_order[:]\n",
    "    passive_order = game.active_color_order[:]\n",
    "    active_token = game.passive_bowl_token\n",
    "    passive_token = game.active_bowl_token\n",
    "\n",
    "    # if start of game:\n",
    "    if action >= 104:\n",
    "        active_token = (action + 1) % 2\n",
    "        passive_token = action % 2\n",
    "\n",
    "        return board, [0, 0, 0, 0, 0, 0], [0, 0, 0, 0, 0, 0], active_token, passive_token\n",
    "\n",
    "    # remaining actions represent a change to the board state:\n",
    "    location = action % 52\n",
    "    print(location, action)\n",
    "    coords = loci[location], locj[location]\n",
    "    print(coords)\n",
    "    print(passive_token)\n",
    "\n",
    "    # passive board location -> active bowl token, as these will be added on to in update_locations()\n",
    "    if action < 52:\n",
    "        # + 12 to represent that the placed token belongs to the passive player, from the point of view of this\n",
    "        # node:\n",
    "        passive_token, board[coords] = board[coords].item(), passive_token + 12\n",
    "\n",
    "    # only the passive order can be updated...\n",
    "    if game.active_bowl_token not in game.active_color_groups:\n",
    "        passive_order[game.active_bowl_token] = game.active_placing_number\n",
    "\n",
    "    return board, active_order, passive_order, active_token, passive_token\n"
   ]
  },
  {
   "cell_type": "code",
   "execution_count": 1,
   "id": "76388a02-2834-4bcc-a97c-a73cf0835a45",
   "metadata": {},
   "outputs": [],
   "source": [
    "import random\n",
    "import numpy as np\n",
    "import copy\n",
    "from importlib import reload\n",
    "import torch\n",
    "import int_to_board\n",
    "reload(int_to_board)\n",
    "\n",
    "import game\n",
    "reload(game)\n",
    "\n",
    "import plotting\n",
    "reload(plotting)\n",
    "\n",
    "import mcts.mcts\n",
    "reload(mcts.mcts)\n",
    "\n",
    "import mcts.networks\n",
    "reload(mcts.networks)\n",
    "\n",
    "import mcts.agent\n",
    "reload(mcts.agent)\n",
    "\n",
    "import augmentor\n",
    "reload(augmentor)\n",
    "\n",
    "from game import Patterns\n",
    "from plotting import PatternPlotter\n",
    "\n",
    "from mcts.mcts import Tree, Node\n",
    "from mcts.networks import PatternsNet\n",
    "from mcts.agent import Agent\n",
    "\n",
    "from augmentor import Augmentor, StateAugmentor\n",
    "\n",
    "rseed = 12387623\n",
    "random.seed(rseed)\n",
    "torch.manual_seed(rseed)\n",
    "np.random.seed(rseed)\n",
    "\n",
    "my_device = torch.device(\"cuda:0\") if torch.cuda.is_available() else torch.device(\"cpu\")"
   ]
  },
  {
   "cell_type": "code",
   "execution_count": 2,
   "id": "9bb885d2-2d54-44e9-8a4b-9be7627c347e",
   "metadata": {},
   "outputs": [
    {
     "name": "stdout",
     "output_type": "stream",
     "text": [
      "Generating initial games:\n",
      "Evaluating tensor states...\n",
      "Provisioning inference to root nodes...\n"
     ]
    }
   ],
   "source": [
    "my_network = PatternsNet(\n",
    "    in_channels=102, # 102 for the number of state planes: 18 for tokens, 72 for order, 12 for bowl tokens\n",
    "    out_channels=64,\n",
    ")\n",
    "\n",
    "my_agent = Agent(\n",
    "    agent_id='1', \n",
    "    network = my_network,\n",
    "    device = my_device,\n",
    "    num_trees = 2, \n",
    "    target_games = 10,\n",
    "    selection_temperature = 1.0,\n",
    "    topn=5,\n",
    "    randn=10,\n",
    "    save_depth=2,\n",
    "    explore_steps_schedule=[(0, 0)],\n",
    ")"
   ]
  },
  {
   "cell_type": "code",
   "execution_count": 3,
   "id": "1df8e4d8-a38a-4dc9-be9c-3a66a0a05612",
   "metadata": {},
   "outputs": [
    {
     "name": "stdout",
     "output_type": "stream",
     "text": [
      "1 games have been completed!\n",
      "2 games have been completed!\n",
      "3 games have been completed!\n",
      "4 games have been completed!\n",
      "5 games have been completed!\n",
      "6 games have been completed!\n",
      "7 games have been completed!\n",
      "8 games have been completed!\n",
      "9 games have been completed!\n",
      "10 games have been completed!\n",
      " "
     ]
    },
    {
     "data": {
      "text/plain": [
       "         242580 function calls (209082 primitive calls) in 7.060 seconds\n",
       "\n",
       "   Ordered by: internal time\n",
       "\n",
       "   ncalls  tottime  percall  cumtime  percall filename:lineno(function)\n",
       "     3444    4.873    0.001    4.873    0.001 {built-in method torch.conv2d}\n",
       "     3444    0.690    0.000    0.690    0.000 {built-in method torch.batch_norm}\n",
       "      656    0.126    0.000    0.364    0.001 mcts.py:300(create_tensor_state)\n",
       "16892/164    0.100    0.000    6.330    0.039 module.py:1740(_call_impl)\n",
       "     3444    0.077    0.000    0.841    0.000 batchnorm.py:159(forward)\n",
       "16892/164    0.068    0.000    6.331    0.039 module.py:1732(_wrapped_call_impl)\n",
       "     1312    0.058    0.000    5.397    0.004 networks.py:168(forward)\n",
       "     3116    0.056    0.000    0.056    0.000 {built-in method torch.relu}\n",
       "    16892    0.056    0.000    0.056    0.000 {built-in method torch._C._get_tracing_state}\n",
       "      569    0.056    0.000    0.056    0.000 {built-in method torch.cat}\n",
       "     3444    0.054    0.000    6.132    0.002 container.py:248(forward)\n",
       "    31652    0.054    0.000    0.054    0.000 module.py:1918(__getattr__)\n",
       "      569    0.053    0.000    0.053    0.000 mcts.py:351(remove_tensor_corners)\n",
       "      569    0.041    0.000    0.041    0.000 {built-in method torch._C._nn.one_hot}\n",
       "     8864    0.034    0.000    0.039    0.000 game.py:200(is_action_terminal)\n",
       "      328    0.032    0.000    0.032    0.000 {built-in method torch._C._nn.adaptive_avg_pool2d}\n",
       "     3444    0.031    0.000    4.929    0.001 conv.py:553(forward)\n",
       "      569    0.030    0.000    0.030    0.000 {built-in method torch.tensor}\n",
       "      328    0.030    0.000    0.030    0.000 {built-in method torch._C._nn.linear}\n",
       "     3444    0.023    0.000    0.721    0.000 functional.py:2781(batch_norm)\n",
       "      328    0.021    0.000    0.111    0.000 mcts.py:122(assign_actions_and_policy)\n",
       "      328    0.020    0.000    0.345    0.001 mcts.py:196(expand)\n",
       "      569    0.020    0.000    0.052    0.000 mcts.py:252(get_state_attributes)\n",
       "     3444    0.016    0.000    4.889    0.001 conv.py:536(_conv_forward)\n",
       "      328    0.016    0.000    0.034    0.000 mcts.py:608(back_propagate)\n",
       "     1138    0.015    0.000    0.015    0.000 {built-in method torch.zeros}\n",
       "     3444    0.012    0.000    0.016    0.000 container.py:240(__iter__)\n",
       "      164    0.012    0.000    6.388    0.039 agent.py:256(assign_inference)\n",
       "      328    0.012    0.000    0.032    0.000 mcts.py:189(numpy_softmax)\n",
       "      164    0.012    0.000    0.012    0.000 {built-in method torch.stack}\n",
       "     2592    0.010    0.000    0.010    0.000 mcts.py:60(__init__)\n",
       "      164    0.010    0.000    0.010    0.000 {method 'float' of 'torch._C.TensorBase' objects}\n",
       "      656    0.010    0.000    5.423    0.008 networks.py:125(forward)\n",
       "      663    0.010    0.000    0.010    0.000 {method 'reduce' of 'numpy.ufunc' objects}\n",
       "      355    0.010    0.000    0.029    0.000 game.py:94(clone)\n",
       "     3444    0.009    0.000    0.016    0.000 batchnorm.py:450(_check_input_dim)\n",
       "      328    0.009    0.000    0.009    0.000 mcts.py:162(calculate_reward)\n",
       "      569    0.009    0.000    0.009    0.000 {method 'long' of 'torch._C.TensorBase' objects}\n",
       "      164    0.008    0.000    6.328    0.039 networks.py:57(forward)\n",
       "     3116    0.008    0.000    0.066    0.000 functional.py:1693(relu)\n",
       "      569    0.008    0.000    0.008    0.000 {method 'permute' of 'torch._C.TensorBase' objects}\n",
       "      328    0.008    0.000    0.010    0.000 utils.py:35(_list_with_default)\n",
       "      656    0.008    0.000    0.008    0.000 {method 'rand' of 'numpy.random.mtrand.RandomState' objects}\n",
       "      113    0.008    0.000    0.015    0.000 random.py:376(shuffle)\n",
       "      328    0.007    0.000    0.007    0.000 {method 'numpy' of 'torch._C.TensorBase' objects}\n",
       "     3116    0.007    0.000    0.073    0.000 activation.py:132(forward)\n",
       "      328    0.007    0.000    0.011    0.000 mcts.py:535(choose_action_argument)\n",
       "     4949    0.007    0.000    0.010    0.000 random.py:235(_randbelow_with_getrandbits)\n",
       "      328    0.006    0.000    0.292    0.001 mcts.py:103(populate_attributes)\n",
       "     3444    0.006    0.000    0.006    0.000 {method 'dim' of 'torch._C.TensorBase' objects}\n",
       "      328    0.006    0.000    0.006    0.000 {method 'flatten' of 'torch._C.TensorBase' objects}\n",
       "      449    0.006    0.000    0.011    0.000 game.py:161(get_actions)\n",
       "      328    0.006    0.000    0.027    0.000 mcts.py:135(<listcomp>)\n",
       "      492    0.006    0.000    0.006    0.000 {method 'to' of 'torch._C.TensorBase' objects}\n",
       "      164    0.006    0.000    0.551    0.003 agent.py:226(explore)\n",
       "      645    0.006    0.000    0.006    0.000 mcts.py:174(calculate_exploitation_score)\n",
       "      328    0.005    0.000    0.067    0.000 mcts.py:563(step)\n",
       "     1038    0.005    0.000    0.005    0.000 {built-in method numpy.array}\n",
       "      164    0.004    0.000    0.004    0.000 {built-in method torch.tanh}\n",
       "      776    0.004    0.000    0.020    0.000 {built-in method numpy.core._multiarray_umath.implement_array_function}\n",
       "      383    0.004    0.000    0.004    0.000 game.py:415(remove_new_location)\n",
       "      383    0.004    0.000    0.006    0.000 game.py:434(update_placing_and_flipping_groups)\n",
       "    19456    0.004    0.000    0.004    0.000 {built-in method builtins.len}\n",
       "  397/355    0.004    0.000    0.030    0.000 game.py:322(step)\n",
       "        1    0.004    0.004    7.059    7.059 agent.py:186(run_games)\n",
       "      569    0.004    0.000    0.004    0.000 mcts.py:335(<listcomp>)\n",
       "      328    0.004    0.000    0.035    0.000 linear.py:124(forward)\n",
       "      383    0.003    0.000    0.018    0.000 game.py:392(update_locations)\n",
       "      355    0.003    0.000    0.003    0.000 game.py:127(<dictcomp>)\n",
       "     3444    0.003    0.000    0.005    0.000 __init__.py:38(__get__)\n",
       "      164    0.003    0.000    0.004    0.000 grad_mode.py:269(__enter__)\n",
       "      656    0.003    0.000    0.009    0.000 mcts.py:590(update_node_child_scores)\n",
       "      164    0.003    0.000    0.574    0.003 networks.py:105(forward)\n",
       "      335    0.003    0.000    0.010    0.000 fromnumeric.py:69(_wrapreduction)\n",
       "      328    0.003    0.000    0.046    0.000 functional.py:1370(adaptive_avg_pool2d)\n",
       "      355    0.003    0.000    0.003    0.000 game.py:130(<dictcomp>)\n",
       "      355    0.003    0.000    0.003    0.000 game.py:126(<dictcomp>)\n",
       "      355    0.003    0.000    0.003    0.000 game.py:129(<dictcomp>)\n",
       "     3444    0.003    0.000    0.003    0.000 {built-in method torch._C._has_torch_function_variadic}\n",
       "      328    0.003    0.000    0.013    0.000 fromnumeric.py:2677(amax)\n",
       "      313    0.002    0.000    0.002    0.000 game.py:189(<listcomp>)\n",
       "     3444    0.002    0.000    0.002    0.000 {built-in method torch._C._has_torch_function_unary}\n",
       "     3444    0.002    0.000    0.002    0.000 {built-in method builtins.iter}\n",
       "      646    0.002    0.000    0.005    0.000 random.py:367(choice)\n",
       "      164    0.002    0.000    0.002    0.000 grad_mode.py:259(__init__)\n",
       "      355    0.002    0.000    0.002    0.000 game.py:123(<dictcomp>)\n",
       "     3444    0.002    0.000    0.002    0.000 {built-in method torch._C._get_cudnn_enabled}\n",
       "      328    0.002    0.000    0.008    0.000 flatten.py:52(forward)\n",
       "      328    0.002    0.000    0.007    0.000 numeric.py:149(ones)\n",
       "      230    0.002    0.000    0.002    0.000 {method 'item' of 'torch._C.TensorBase' objects}\n",
       "      355    0.002    0.000    0.002    0.000 game.py:124(<dictcomp>)\n",
       "      435    0.002    0.000    0.002    0.000 game.py:195(<listcomp>)\n",
       "     3444    0.002    0.000    0.002    0.000 {method 'values' of 'dict' objects}\n",
       "     4323    0.002    0.000    0.002    0.000 {method 'append' of 'list' objects}\n",
       "      164    0.002    0.000    0.002    0.000 {method 'view' of 'torch._C.TensorBase' objects}\n",
       "     7591    0.002    0.000    0.002    0.000 {method 'getrandbits' of '_random.Random' objects}\n",
       "      701    0.002    0.000    0.002    0.000 game.py:295(<listcomp>)\n",
       "      164    0.002    0.000    0.002    0.000 {built-in method torch._C.__exit__}\n",
       "      383    0.002    0.000    0.002    0.000 game.py:407(update_board)\n",
       "      164    0.002    0.000    0.081    0.000 agent.py:210(step_trees)\n",
       "      328    0.001    0.000    0.001    0.000 {method 'size' of 'torch._C.TensorBase' objects}\n",
       "      113    0.001    0.000    0.001    0.000 {method 'argsort' of 'numpy.ndarray' objects}\n",
       "      383    0.001    0.000    0.002    0.000 game.py:425(update_color_groups)\n",
       "      113    0.001    0.000    0.001    0.000 mcts.py:150(<listcomp>)\n",
       "      328    0.001    0.000    0.047    0.000 pooling.py:1454(forward)\n",
       "     4737    0.001    0.000    0.001    0.000 {method 'items' of 'dict' objects}\n",
       "      328    0.001    0.000    0.004    0.000 <__array_function__ internals>:177(copyto)\n",
       "      383    0.001    0.000    0.001    0.000 game.py:443(<listcomp>)\n",
       "      328    0.001    0.000    0.015    0.000 <__array_function__ internals>:177(amax)\n",
       "      318    0.001    0.000    0.001    0.000 game.py:307(swap_players)\n",
       "      164    0.001    0.000    0.002    0.000 grad_mode.py:264(__new__)\n",
       "      328    0.001    0.000    0.001    0.000 utils.py:42(<listcomp>)\n",
       "        8    0.001    0.000    0.001    0.000 socket.py:621(send)\n",
       "      338    0.001    0.000    0.001    0.000 mcts.py:437(determine_required_steps)\n",
       "      355    0.001    0.000    0.030    0.000 game.py:44(__init__)\n",
       "      328    0.001    0.000    0.001    0.000 mcts.py:479(get_leaf_node)\n",
       "      328    0.001    0.000    0.005    0.000 {method 'sum' of 'numpy.ndarray' objects}\n",
       "     4949    0.001    0.000    0.001    0.000 {method 'bit_length' of 'int' objects}\n",
       "      335    0.001    0.000    0.001    0.000 fromnumeric.py:70(<dictcomp>)\n",
       "       79    0.001    0.000    0.001    0.000 game.py:148(calculate_score)\n",
       "      328    0.001    0.000    0.001    0.000 {built-in method numpy.empty}\n",
       "      164    0.001    0.000    0.002    0.000 grad_mode.py:273(__exit__)\n",
       "      113    0.001    0.000    0.003    0.000 fromnumeric.py:1012(argsort)\n",
       "       10    0.001    0.000    0.001    0.000 mcts.py:627(get_replay_game)\n",
       "      164    0.001    0.000    0.001    0.000 {built-in method torch._C.__enter__}\n",
       "      113    0.001    0.000    0.001    0.000 mcts.py:154(<listcomp>)\n",
       "      383    0.001    0.000    0.001    0.000 game.py:447(<listcomp>)\n",
       "      328    0.001    0.000    0.004    0.000 _methods.py:46(_sum)\n",
       "        7    0.001    0.000    0.001    0.000 {method 'choice' of 'numpy.random.mtrand.RandomState' objects}\n",
       "      512    0.001    0.000    0.001    0.000 {built-in method builtins.isinstance}\n",
       "      113    0.001    0.000    0.004    0.000 <__array_function__ internals>:177(argsort)\n",
       "      164    0.001    0.000    0.005    0.000 activation.py:391(forward)\n",
       "      113    0.000    0.000    0.002    0.000 fromnumeric.py:51(_wrapfunc)\n",
       "      120    0.000    0.000    0.000    0.000 {built-in method builtins.getattr}\n",
       "      164    0.000    0.000    0.000    0.000 {built-in method __new__ of type object at 0x00007FF83F52A4B0}\n",
       "       20    0.000    0.000    0.002    0.000 iostream.py:610(write)\n",
       "      383    0.000    0.000    0.000    0.000 {method 'add' of 'set' objects}\n",
       "        8    0.000    0.000    0.001    0.000 iostream.py:243(schedule)\n",
       "      328    0.000    0.000    0.000    0.000 multiarray.py:1071(copyto)\n",
       "       10    0.000    0.000    0.002    0.000 {built-in method builtins.print}\n",
       "      328    0.000    0.000    0.000    0.000 fromnumeric.py:2672(_amax_dispatcher)\n",
       "       20    0.000    0.000    0.000    0.000 {built-in method numpy.zeros}\n",
       "      164    0.000    0.000    0.000    0.000 _jit_internal.py:103(is_scripting)\n",
       "        7    0.000    0.000    0.000    0.000 fromnumeric.py:2927(prod)\n",
       "        8    0.000    0.000    0.000    0.000 threading.py:1185(is_alive)\n",
       "       20    0.000    0.000    0.000    0.000 iostream.py:505(_is_master_process)\n",
       "        1    0.000    0.000    7.060    7.060 {built-in method builtins.exec}\n",
       "       20    0.000    0.000    0.002    0.000 iostream.py:532(_schedule_flush)\n",
       "      113    0.000    0.000    0.000    0.000 fromnumeric.py:1008(_argsort_dispatcher)\n",
       "        8    0.000    0.000    0.000    0.000 iostream.py:127(_event_pipe)\n",
       "       20    0.000    0.000    0.000    0.000 {method '__exit__' of '_thread.RLock' objects}\n",
       "        7    0.000    0.000    0.000    0.000 <__array_function__ internals>:177(prod)\n",
       "       10    0.000    0.000    0.000    0.000 mcts.py:421(reset)\n",
       "        8    0.000    0.000    0.000    0.000 threading.py:1118(_wait_for_tstate_lock)\n",
       "        3    0.000    0.000    0.000    0.000 random.py:358(randint)\n",
       "        8    0.000    0.000    0.000    0.000 {method 'acquire' of '_thread.lock' objects}\n",
       "       20    0.000    0.000    0.000    0.000 {method 'write' of '_io.StringIO' objects}\n",
       "        3    0.000    0.000    0.000    0.000 random.py:284(randrange)\n",
       "       20    0.000    0.000    0.000    0.000 {built-in method nt.getpid}\n",
       "       10    0.000    0.000    0.000    0.000 {method 'pop' of 'list' objects}\n",
       "        8    0.000    0.000    0.000    0.000 threading.py:568(is_set)\n",
       "        1    0.000    0.000    7.059    7.059 <string>:1(<module>)\n",
       "        8    0.000    0.000    0.000    0.000 {method 'append' of 'collections.deque' objects}\n",
       "        7    0.000    0.000    0.000    0.000 fromnumeric.py:2922(_prod_dispatcher)\n",
       "        9    0.000    0.000    0.000    0.000 {built-in method _operator.index}\n",
       "        1    0.000    0.000    0.000    0.000 {method 'disable' of '_lsprof.Profiler' objects}"
      ]
     },
     "metadata": {},
     "output_type": "display_data"
    }
   ],
   "source": [
    "%prun my_agent.run_games()"
   ]
  },
  {
   "cell_type": "code",
   "execution_count": null,
   "id": "bc63d701-8029-495c-b533-c35947848450",
   "metadata": {},
   "outputs": [],
   "source": [
    "tensor_move_1 == tensor_move_2"
   ]
  },
  {
   "cell_type": "code",
   "execution_count": null,
   "id": "c2990ba5-42b2-43a9-8cbb-6a3778c9988d",
   "metadata": {},
   "outputs": [],
   "source": []
  },
  {
   "cell_type": "code",
   "execution_count": 5,
   "id": "85397fda-0e2a-44f7-9ed2-2e0bac6f6fdf",
   "metadata": {},
   "outputs": [
    {
     "data": {
      "image/png": "[encoded data removed]",
      "text/plain": [
       "<Figure size 700x700 with 1 Axes>"
      ]
     },
     "metadata": {},
     "output_type": "display_data"
    },
    {
     "data": {
      "image/png": "[encoded data removed]",
      "text/plain": [
       "<Figure size 700x700 with 1 Axes>"
      ]
     },
     "metadata": {},
     "output_type": "display_data"
    },
    {
     "data": {
      "image/png": "[encoded data removed]",
      "text/plain": [
       "<Figure size 700x700 with 1 Axes>"
      ]
     },
     "metadata": {},
     "output_type": "display_data"
    },
    {
     "data": {
      "image/png": "[encoded data removed]",
      "text/plain": [
       "<Figure size 700x700 with 1 Axes>"
      ]
     },
     "metadata": {},
     "output_type": "display_data"
    },
    {
     "data": {
      "text/plain": [
       "(array([42, 43, 91, 96], dtype=int64),)"
      ]
     },
     "execution_count": 5,
     "metadata": {},
     "output_type": "execute_result"
    }
   ],
   "source": [
    "game_index = 4\n",
    "\n",
    "_game = my_agent.completed_games[game_index]\n",
    "\n",
    "node1 = _game[4][0]\n",
    "node2 = _game[4][0]\n",
    "\n",
    "game_move_1 = _game[3][0]\n",
    "game_move_2 = _game[3][1]\n",
    "\n",
    "tensor_move_1 = _game[0][0]\n",
    "tensor_move_2 = _game[0][1]\n",
    "\n",
    "plot1 = PatternPlotter(game=game_move_1)\n",
    "plot2 = PatternPlotter(game=game_move_2)\n",
    "\n",
    "plot12 = PatternPlotter(game_tensor=tensor_move_1)\n",
    "plot22 = PatternPlotter(game_tensor=tensor_move_2)\n",
    "\n",
    "fsize = (7, 7)\n",
    "plot1.plot(fsize)\n",
    "plot12.plot(fsize)\n",
    "\n",
    "plot2.plot(fsize)\n",
    "plot22.plot(fsize)\n",
    "\n",
    "# print(g1.get_actions(), my_agent.completed_games[-1][1][0])\n",
    "# plot1.plot(fig_size=(7, 7))\n",
    "# plot12.create_plotting_game_from_tensor_state(my_agent.completed_games[-1][0][0])\n",
    "\n",
    "# print(g2.get_actions(), my_agent.completed_games[-1][1][1])\n",
    "# plot2.plot(fig_size=(7, 7))\n",
    "\n",
    "np.where(my_agent.completed_games[game_index][1][1])\n"
   ]
  },
  {
   "cell_type": "code",
   "execution_count": 21,
   "id": "92c47bc2-59cf-497d-973c-29b225345ff0",
   "metadata": {},
   "outputs": [
    {
     "data": {
      "text/plain": [
       "([17, 69], 1)"
      ]
     },
     "execution_count": 21,
     "metadata": {},
     "output_type": "execute_result"
    }
   ],
   "source": [
    "node1.possible_actions, node2.parent_action_arg"
   ]
  },
  {
   "cell_type": "code",
   "execution_count": 25,
   "id": "e1eb6cee-a38c-4a83-af50-09825d0fc346",
   "metadata": {},
   "outputs": [
    {
     "data": {
      "text/plain": [
       "False"
      ]
     },
     "execution_count": 25,
     "metadata": {},
     "output_type": "execute_result"
    }
   ],
   "source": [
    "node1 == node2.parent"
   ]
  },
  {
   "cell_type": "code",
   "execution_count": 24,
   "id": "4a0eb401-cdaf-47b8-91b9-aef7f8f028b2",
   "metadata": {},
   "outputs": [
    {
     "name": "stdout",
     "output_type": "stream",
     "text": [
      "[30, 38, 44, 96]\n"
     ]
    }
   ],
   "source": [
    "print(node2.parent.possible_actions)"
   ]
  },
  {
   "cell_type": "code",
   "execution_count": 16,
   "id": "c266fe85-93c5-4fd8-a974-6a91c77b3a7a",
   "metadata": {},
   "outputs": [],
   "source": [
    "from int_to_board import loci, locj"
   ]
  },
  {
   "cell_type": "code",
   "execution_count": 22,
   "id": "e49ecd29-6527-4bb0-b53e-136745cdd579",
   "metadata": {},
   "outputs": [
    {
     "name": "stdout",
     "output_type": "stream",
     "text": [
      "[30, 38, 44, 96]\n",
      "1\n",
      "38 38\n",
      "(5, 4)\n",
      "3\n"
     ]
    },
    {
     "data": {
      "text/plain": [
       "(tensor([[ 0,  0, 12,  5,  5, 16,  0,  0],\n",
       "         [ 0, 12, 12,  8,  8, 16,  1,  0],\n",
       "         [ 7,  7,  7,  8,  8,  8, 17,  4],\n",
       "         [11, 11, 11, 13, 13, 17, 17, 10],\n",
       "         [15, 15, 15, 15,  4,  6,  6, 10],\n",
       "         [14, 14, 14, 15, 15,  3,  6, 10],\n",
       "         [ 0,  1,  4,  3,  1,  6,  6,  0],\n",
       "         [ 0,  0,  5,  0,  3,  1,  0,  0]], dtype=torch.int32),\n",
       " [3, 1, 4, 0, 2, 5],\n",
       " [1, 3, 4, 5, 2, 6],\n",
       " 4,\n",
       " 2)"
      ]
     },
     "execution_count": 22,
     "metadata": {},
     "output_type": "execute_result"
    }
   ],
   "source": [
    "get_state_attributes(node2)"
   ]
  },
  {
   "cell_type": "code",
   "execution_count": null,
   "id": "b05cbf34-f106-45fe-915b-b37fd42f89e9",
   "metadata": {},
   "outputs": [],
   "source": [
    "copy_game = copy.deepcopy(my_agent.completed_games[game_index][3][1])\n"
   ]
  },
  {
   "cell_type": "code",
   "execution_count": null,
   "id": "8c1abf8b-6331-4ec7-9499-a59f9aaca2da",
   "metadata": {},
   "outputs": [],
   "source": [
    "copy_game.active_board"
   ]
  },
  {
   "cell_type": "code",
   "execution_count": null,
   "id": "7d94964f-5993-4ffe-bd41-b4c9158fc4cb",
   "metadata": {},
   "outputs": [],
   "source": [
    "my_plotter.create_plotting_game_from_tensor_state(game[0][-2])"
   ]
  },
  {
   "cell_type": "code",
   "execution_count": null,
   "id": "b23b0eb3-b286-4b82-a6cd-a5f9e56e1be2",
   "metadata": {},
   "outputs": [],
   "source": [
    "random.randint(0, 1)"
   ]
  },
  {
   "cell_type": "code",
   "execution_count": null,
   "id": "696d1856-50db-4324-874c-a319122df49a",
   "metadata": {},
   "outputs": [],
   "source": [
    "make sure to return the ARGUMENT of the winning actions..."
   ]
  },
  {
   "cell_type": "code",
   "execution_count": null,
   "id": "330e8342-20b0-4a13-9fcd-c0735b704e37",
   "metadata": {},
   "outputs": [],
   "source": [
    "my_agent.trees[0].choose_action_argument()"
   ]
  },
  {
   "cell_type": "code",
   "execution_count": null,
   "id": "9c599079-92e5-4303-8048-39ca6e55991a",
   "metadata": {},
   "outputs": [],
   "source": [
    "my_agent.trees[0].root_node.possible_actions"
   ]
  },
  {
   "cell_type": "code",
   "execution_count": null,
   "id": "da399a79-79d4-46d3-adb5-21561e88a83a",
   "metadata": {},
   "outputs": [],
   "source": [
    "reload(plotting)\n",
    "from plotting import PatternPlotter\n",
    "\n",
    "import augmentor\n",
    "reload(augmentor)\n",
    "from augmentor import Augmentor, StateAugmentor\n",
    "\n",
    "import copy"
   ]
  },
  {
   "cell_type": "code",
   "execution_count": null,
   "id": "daa3548f-e2e6-480c-adff-bff24d21bd12",
   "metadata": {},
   "outputs": [],
   "source": [
    "ln = my_agent.trees[0].get_leaf_node()\n",
    "nod = ln.parent\n",
    "nod.create_tensor_state()\n",
    "\n",
    "pplotter = PatternPlotter(nod.game)\n",
    "pplotter2 = PatternPlotter(nod.game)\n",
    "pplotter2.create_plotting_game_from_tensor_state(nod.tensor_state)\n",
    "pplotter.plot()\n",
    "\n",
    "copy_nod = copy.deepcopy(nod)\n",
    "my_aug = StateAugmentor(copy_nod.tensor_state)\n",
    "my_aug.full_augment()\n",
    "\n",
    "pplotter3 = PatternPlotter(nod.game)\n",
    "pplotter3.create_plotting_game_from_tensor_state(copy_nod.tensor_state)"
   ]
  },
  {
   "cell_type": "code",
   "execution_count": null,
   "id": "c4d8a283-509b-4d6f-90cb-dc01792db5b1",
   "metadata": {},
   "outputs": [],
   "source": [
    "def determine_required_steps(schedule, my_depth) -> None:\n",
    "    \"\"\" use the schedule to determine how many root node explores this node should have:\n",
    "\n",
    "    Schedule always starts with (0, X) to state that there are X required steps at depth 0\n",
    "\n",
    "    Then either there is no other tuple, in which case all root nodes explore for X, or there are\n",
    "    other schedules, and as soon as your depth is below the first entry, you take the previous\n",
    "    \"\"\"\n",
    "    curr_explore = schedule[0][1]\n",
    "    for _depth, _steps in schedule:\n",
    "        if my_depth < _depth:\n",
    "            break\n",
    "            \n",
    "        curr_explore = _steps\n",
    "        \n",
    "    return curr_explore\n",
    "\n",
    "schedule1 = [(0, 200), (5, 50), (10, 150)]\n",
    "schedule2 = [(0, 10)]\n",
    "\n",
    "d1 = 1\n",
    "d2 = 5\n",
    "d3 = 6\n",
    "d4 = 20\n",
    "\n",
    "r11 = determine_required_steps(schedule1, d1)\n",
    "r12 = determine_required_steps(schedule1, d2)\n",
    "r13 = determine_required_steps(schedule1, d3)\n",
    "r14 = determine_required_steps(schedule1, d4)\n",
    "\n",
    "r21 = determine_required_steps(schedule2, d1)\n",
    "r22 = determine_required_steps(schedule2, d2)\n",
    "r23 = determine_required_steps(schedule2, d3)\n",
    "r24 = determine_required_steps(schedule2, d4)\n",
    "\n",
    "print(r11, r12, r13, r14)\n",
    "print(r21, r22, r23, r24)"
   ]
  },
  {
   "cell_type": "code",
   "execution_count": null,
   "id": "59405c1f-5b7f-4743-855e-d969c6bd1049",
   "metadata": {},
   "outputs": [],
   "source": [
    "jim = np.array([1, 2, 3, 4])\n",
    "james = np.array([1, 2])\n",
    "\n",
    "random.choice(list(set(jim) - set(james)))"
   ]
  },
  {
   "cell_type": "code",
   "execution_count": null,
   "id": "511cfcc0-43aa-40ae-851b-9ccaec84dff3",
   "metadata": {},
   "outputs": [],
   "source": [
    "nod.tensor_state[0, 1, 0], ln.tensor_state"
   ]
  },
  {
   "cell_type": "code",
   "execution_count": null,
   "id": "e2ccbf51-bdf0-4349-8c5d-0c47d8559d76",
   "metadata": {},
   "outputs": [],
   "source": [
    "board = np.zeros((3, 3))\n",
    "board[1, 1] = 1\n",
    "torch.nn.functional.one_hot(torch.tensor(board).long(), num_classes=2)"
   ]
  },
  {
   "cell_type": "code",
   "execution_count": null,
   "id": "62abc3fb-5029-4ee2-b946-460bdee7b16e",
   "metadata": {},
   "outputs": [],
   "source": [
    "random_tensor = torch.rand((3, 4))\n",
    "random_tensor = torch.zeros((3, 4), dtype=int)\n",
    "random_tensor[2, 0] = 1\n",
    "inds = torch.where(random_tensor[:, 0] == 1)\n",
    "inds[0]\n"
   ]
  },
  {
   "cell_type": "code",
   "execution_count": null,
   "id": "82fcd510-3ddf-460e-b1cd-b6778e8d8558",
   "metadata": {},
   "outputs": [],
   "source": [
    "jim = np.array([0, 1, 2])\n",
    "arr, = np.where(jim == 1)\n",
    "arr"
   ]
  },
  {
   "cell_type": "code",
   "execution_count": null,
   "id": "ac50723b-f566-483e-aab6-81ca6b2a1df9",
   "metadata": {},
   "outputs": [],
   "source": [
    "numpy_board = np.random.rand(3, 4, 5)\n",
    "numpy_board = np.arange(0, 3 * 4 * 5).reshape((3, 4, 5))\n",
    "np.flip(numpy_board, axis=2), np.rot90(numpy_board, k=1, axes=(1, 2)), numpy_board"
   ]
  },
  {
   "cell_type": "code",
   "execution_count": null,
   "id": "473a7213-722e-4164-aa90-2f28c9332d4b",
   "metadata": {},
   "outputs": [],
   "source": [
    "ln = my_agent.trees[0].get_leaf_node()\n",
    "parent = ln.parent\n",
    "leaf_game = ln.game\n",
    "parent_game = parent.game"
   ]
  },
  {
   "cell_type": "code",
   "execution_count": null,
   "id": "283c54d3-7639-479a-bf33-082d979e4dda",
   "metadata": {},
   "outputs": [],
   "source": [
    "leaf_game.result, leaf_game.is_no_more_placing"
   ]
  },
  {
   "cell_type": "code",
   "execution_count": null,
   "id": "0b6f10f3-6d68-43c8-8d0f-011452b86663",
   "metadata": {},
   "outputs": [],
   "source": [
    "from int_to_board import location_to_coordinates"
   ]
  },
  {
   "cell_type": "code",
   "execution_count": null,
   "id": "ee83ef17-aae9-4981-a7c1-278f27b0c55a",
   "metadata": {},
   "outputs": [],
   "source": [
    "action = 6\n",
    "removed_location = location_to_coordinates[action % 52]\n",
    "color = parent_game.active_bowl_token if action < 52 else parent_game.active_board[removed_location]\n",
    "\n",
    "color, removed_location"
   ]
  },
  {
   "cell_type": "code",
   "execution_count": null,
   "id": "c4b7c5e6-db59-4287-8dde-a7655789425f",
   "metadata": {},
   "outputs": [],
   "source": [
    "len(parent_game.passive_orthogonal_groups[parent_game.passive_bowl_token]\n",
    "                               - parent_game.active_orthogonal_groups[parent_game.passive_bowl_token])"
   ]
  },
  {
   "cell_type": "code",
   "execution_count": null,
   "id": "cccb9bca-009b-4837-ac67-72d78a9a6137",
   "metadata": {},
   "outputs": [],
   "source": [
    "pplotter = PatternPlotter(leaf_game)\n",
    "pplotter.plot()"
   ]
  },
  {
   "cell_type": "code",
   "execution_count": null,
   "id": "bd206462-d487-4d39-9578-2eaa8c38237c",
   "metadata": {},
   "outputs": [],
   "source": [
    "parent_game.get_actions(), leaf_game.get_actions(), parent_game.is_no_more_placing"
   ]
  },
  {
   "cell_type": "code",
   "execution_count": null,
   "id": "0315d59c-ead8-4ced-8aee-63144d5be5e1",
   "metadata": {},
   "outputs": [],
   "source": [
    "pplotter = PatternPlotter(parent_game)\n",
    "pplotter.plot()"
   ]
  },
  {
   "cell_type": "code",
   "execution_count": null,
   "id": "81652733-39e8-46cd-9e77-764fb229445a",
   "metadata": {},
   "outputs": [],
   "source": [
    "my_agent.trees[0].root_node.possible_actions"
   ]
  },
  {
   "cell_type": "code",
   "execution_count": null,
   "id": "73170219-1a8b-43ac-ba36-4dbe4a00b74a",
   "metadata": {},
   "outputs": [],
   "source": [
    "jim = [1, 2, 3, 4]\n",
    "james = jim[10:]\n",
    "random.shuffle(james)\n",
    "james[:5]"
   ]
  },
  {
   "cell_type": "code",
   "execution_count": null,
   "id": "48c8f9bb-e361-4f44-b803-7cf476034533",
   "metadata": {},
   "outputs": [],
   "source": [
    "my_node = my_agent.test_leaf\n",
    "parent = my_node.parent\n",
    "pg = parent.game\n",
    "\n",
    "pplotter = PatternPlotter(pg)\n",
    "pplotter.plot()\n",
    "\n",
    "parent.possible_actions, my_node.parent_action_arg\n",
    "parent_action = parent.possible_actions[my_node.parent_action_arg]\n",
    "parent_action"
   ]
  },
  {
   "cell_type": "code",
   "execution_count": null,
   "id": "24dc5485-b368-4ab4-8404-297b9ba8e935",
   "metadata": {},
   "outputs": [],
   "source": [
    "parent.possible_actions, parent.game.get_actions()"
   ]
  },
  {
   "cell_type": "code",
   "execution_count": null,
   "id": "f686ce46-d98f-49d8-b970-e4d07ef4adf8",
   "metadata": {},
   "outputs": [],
   "source": [
    "27 in parent.game.get_actions()\n",
    "#, 15, 24, 28,  9, 44, 13, 27"
   ]
  },
  {
   "cell_type": "code",
   "execution_count": null,
   "id": "df8ae3f5-e5cc-46d8-9898-b7aba9dc3917",
   "metadata": {},
   "outputs": [],
   "source": [
    "parent_node.game.passive_bowl_token, parent_node.game.active_bowl_token, parent_action\n",
    "from int_to_board import loci, locj\n",
    "\n",
    "coords = loci[parent_action], locj[parent_action]\n",
    "coords, parent_game.passive_board"
   ]
  },
  {
   "cell_type": "code",
   "execution_count": null,
   "id": "125b45ff-d664-4996-ac0a-b7d2feca624d",
   "metadata": {},
   "outputs": [],
   "source": [
    "my_node = my_agent.trees[0].get_leaf_node()\n",
    "parent_node = my_node.parent\n",
    "my_game = my_node.game\n",
    "parent_game = parent_node.game\n",
    "# pplotter = PatternPlotter(my_game)\n",
    "# pplotter.plot(fig_size=(6, 5))\n",
    "parent_plotter = PatternPlotter(parent_game)\n",
    "parent_plotter.plot(fig_size=(6, 5))\n",
    "parent_action = parent_node.possible_actions[my_node.parent_action_arg]"
   ]
  },
  {
   "cell_type": "code",
   "execution_count": null,
   "id": "f557a1f5-9bd5-482f-b29b-7650a3413527",
   "metadata": {},
   "outputs": [],
   "source": [
    "parent_node.possible_actions"
   ]
  },
  {
   "cell_type": "code",
   "execution_count": null,
   "id": "8bc8eac8-8282-41f5-b424-511da2d3e8b1",
   "metadata": {},
   "outputs": [],
   "source": [
    "my_node.get_state_attributes()"
   ]
  },
  {
   "cell_type": "code",
   "execution_count": null,
   "id": "5f962369-1f29-4ef1-aba0-a53f8b4f5c2f",
   "metadata": {},
   "outputs": [],
   "source": [
    "my_node.tensor_state"
   ]
  },
  {
   "cell_type": "code",
   "execution_count": null,
   "id": "fb680a9b-3712-48cc-8ac2-311fd03bdbc9",
   "metadata": {},
   "outputs": [],
   "source": [
    "my_node.parent_action_arg, parent_node.possible_actions"
   ]
  },
  {
   "cell_type": "code",
   "execution_count": null,
   "id": "5e5523ed-f666-461e-b39b-959949567360",
   "metadata": {},
   "outputs": [],
   "source": [
    "my_node.create_tensor_state()"
   ]
  },
  {
   "cell_type": "code",
   "execution_count": null,
   "id": "710bfcdf-70dd-4d6a-ae59-a93785d1faa5",
   "metadata": {},
   "outputs": [],
   "source": [
    "copy_game = Patterns(parent_node.game)\n",
    "copy_game.step(25)\n",
    "pplotter = PatternPlotter(copy_game)\n",
    "pplotter.plot()"
   ]
  },
  {
   "cell_type": "code",
   "execution_count": null,
   "id": "e6f4198d-e1af-41f2-9833-93128900f3b5",
   "metadata": {},
   "outputs": [],
   "source": [
    "my_node.game"
   ]
  },
  {
   "cell_type": "code",
   "execution_count": null,
   "id": "64256a46-d375-41b9-bad6-c8424cf0123f",
   "metadata": {},
   "outputs": [],
   "source": [
    "possible_actions = parent_node.game.get_actions()\n",
    "\n",
    "# restrict the full policy to legal actions, arg sort.\n",
    "restricted_policy = parent_node.full_policy[possible_actions]\n",
    "print(restricted_policy)\n",
    "\n",
    "# sort actions according to the policy prior:\n",
    "prior_sorted_actions = np.argsort(restricted_policy)\n",
    "print(prior_sorted_actions)\n",
    "\n",
    "# select the top n best, according to the breadth restriction:\n",
    "topn_actions = prior_sorted_actions[:parent_node.breadth_restriction]\n",
    "print(topn_actions)\n",
    "\n",
    "# supplement with up to m random additional actions\n",
    "remaining_actions = prior_sorted_actions[parent_node.breadth_restriction:]\n",
    "np.random.shuffle(remaining_actions)\n",
    "random_actions = remaining_actions[:parent_node.random_restriction]\n",
    "\n",
    "print(possible_actions, topn_actions, random_actions)\n",
    "# assign new actions as though these were the only legal ones from this position:\n",
    "parent_node.possible_actions = np.hstack([topn_actions, random_actions])\n",
    "\n",
    "# # first restrict policy vector to the *legal actions*:\n",
    "parent_node.policy_vector = parent_node.numpy_softmax(parent_node.full_policy[parent_node.possible_actions])"
   ]
  },
  {
   "cell_type": "code",
   "execution_count": null,
   "id": "4a4dd958-f43a-44b1-83f3-5813db81dc14",
   "metadata": {},
   "outputs": [],
   "source": [
    "parent_node.policy_vector, parent_node.possible_actions\n"
   ]
  },
  {
   "cell_type": "code",
   "execution_count": null,
   "id": "a5f83b59-95b7-4c60-8c10-a19ee25a8a73",
   "metadata": {},
   "outputs": [],
   "source": [
    "parent_node.result"
   ]
  },
  {
   "cell_type": "code",
   "execution_count": null,
   "id": "d7dd5ec7-4db9-448b-90b6-6d7587bd72b3",
   "metadata": {},
   "outputs": [],
   "source": [
    "parent_node.possible_actions, parent_node.game.get_actions()"
   ]
  },
  {
   "cell_type": "code",
   "execution_count": null,
   "id": "8725fd47-027c-4058-8f88-bababc92ed82",
   "metadata": {},
   "outputs": [],
   "source": [
    "my_node = my_agent.trees[0].get_leaf_node()\n",
    "parent_node = my_node.parent\n",
    "my_game = my_node.game\n",
    "parent_game = parent_node.game\n",
    "pplotter = PatternPlotter(my_game)\n",
    "pplotter.plot(fig_size=(6, 5))\n",
    "parent_plotter = PatternPlotter(parent_game)\n",
    "parent_plotter.plot(fig_size=(6, 5))\n",
    "parent_action = parent_node.possible_actions[my_node.parent_action_arg]"
   ]
  },
  {
   "cell_type": "code",
   "execution_count": null,
   "id": "d866e90d-61a1-41b9-a7c4-71f57fa041d6",
   "metadata": {},
   "outputs": [],
   "source": [
    "from int_to_board import location_to_coordinates, orthogonal_neighbors\n",
    "\n",
    "removed_location = location_to_coordinates[parent_action % 52]\n",
    "removed_orthogonal = orthogonal_neighbors[removed_location]\n",
    "set_removed_location = set(removed_location)\n",
    "color = parent_game.active_bowl_token if parent_action < 52 else parent_game.active_board[removed_location]\n"
   ]
  },
  {
   "cell_type": "code",
   "execution_count": null,
   "id": "504f90b0-61cc-4ad2-913e-5d6fc2c4f0ba",
   "metadata": {},
   "outputs": [],
   "source": [
    "{[5, 4, 3]}"
   ]
  },
  {
   "cell_type": "code",
   "execution_count": null,
   "id": "61280094-be66-4c7e-8475-ff03758ccfb1",
   "metadata": {},
   "outputs": [],
   "source": [
    "# test the new game and the is terminal stuff:\n",
    "game = Patterns()\n",
    "\n",
    "while True:\n",
    "    actions = game.get_actions()\n",
    "    print(actions)\n",
    "    action = random.choice(actions)\n",
    "    print(action)\n",
    "    is_terminal, result = game.step(action)\n",
    "\n",
    "    if is_terminal:\n",
    "        break\n",
    "\n",
    "    pplotter = PatternPlotter(game)\n",
    "    pplotter.plot(fig_size=(7, 5))\n",
    "\n",
    "pplotter = PatternPlotter(game)\n",
    "pplotter.plot()"
   ]
  },
  {
   "cell_type": "code",
   "execution_count": null,
   "id": "a959bf8e-2e4b-48fd-8d5f-f44ffd22c974",
   "metadata": {},
   "outputs": [],
   "source": [
    "my_node = my_agent.trees[6].get_leaf_node()\n",
    "paction = my_node.parent_action_arg\n",
    "\n",
    "parent_node = my_node.parent\n",
    "parent_game = parent_node.game\n",
    "pplotter = PatternPlotter(my_node.game)\n",
    "pplotter_parent = PatternPlotter(parent_game)\n",
    "pplotter.plot()\n",
    "pplotter_parent.plot()\n"
   ]
  },
  {
   "cell_type": "code",
   "execution_count": null,
   "id": "6ae0de35-9849-4e01-9aa5-531fa63feed5",
   "metadata": {},
   "outputs": [],
   "source": [
    "parent_game.passive_flipping_groups"
   ]
  },
  {
   "cell_type": "code",
   "execution_count": null,
   "id": "4d70f251-1d2c-4987-b252-8606cc9b56a2",
   "metadata": {},
   "outputs": [],
   "source": [
    "parent_node.possible_actions[paction]\n"
   ]
  },
  {
   "cell_type": "code",
   "execution_count": null,
   "id": "c5287d4a-6329-46f0-bbe0-c594893ed93d",
   "metadata": {},
   "outputs": [],
   "source": [
    "action = 90\n",
    "from int_to_board import location_to_coordinates\n",
    "\n",
    "if action >= 104:\n",
    "    print('false')\n",
    "    \n",
    "removed_location = location_to_coordinates[action % 52]\n",
    "print(removed_location)"
   ]
  },
  {
   "cell_type": "code",
   "execution_count": null,
   "id": "7eb0f56f-7939-4e19-a02a-0d866816bedd",
   "metadata": {},
   "outputs": [],
   "source": [
    "parent_game.is_no_more_placing"
   ]
  },
  {
   "cell_type": "code",
   "execution_count": null,
   "id": "041a88df-6100-4ff5-ac46-3a646e1f1b4b",
   "metadata": {},
   "outputs": [],
   "source": [
    "set_removed_location = set(removed_location)\n",
    "color = parent_game.active_bowl_token if action < 52 else parent_game.active_board[removed_location]\n",
    "\n",
    "# Placing moves, flipping moves of same color, flipping moves of different colors:\n",
    "placing_locations = parent_game.passive_placing_groups[parent_game.passive_bowl_token]\n",
    "\n",
    "# unless there are no more placing moves allowed:\n",
    "if parent_game.is_no_more_placing:\n",
    "    placing_locations = set()\n",
    "\n",
    "same_color_flipping_locations = parent_game.passive_flipping_groups[color]\n",
    "\n",
    "different_color_flipping_locations = set(location_to_coordinates[_loc - 52] for _loc in parent_game.passive_flipping_actions)\n",
    "different_color_flipping_locations -= same_color_flipping_locations\n"
   ]
  },
  {
   "cell_type": "code",
   "execution_count": null,
   "id": "17c7f603-1374-416b-9a37-a5481e74c54d",
   "metadata": {},
   "outputs": [],
   "source": [
    "jim = {1: [2, 3, 4], 2: [5, 6], 3: [7, 8, 9, 10]}\n",
    "jason = [_x for _key, _val in jim.items() for _x in _val if _key != 2]\n",
    "jason"
   ]
  },
  {
   "cell_type": "code",
   "execution_count": null,
   "id": "0cc45d47-ee3d-4830-9302-5e2272849252",
   "metadata": {},
   "outputs": [],
   "source": [
    "\n",
    "# now determine how many of these are killed by the current action:\n",
    "removed_orthogonal = orthogonal_neighbors[removed_location]\n",
    "\n",
    "# take the removed location from each of the sets:\n",
    "placing_locations -= set_removed_location\n",
    "different_color_flipping_locations -= set_removed_location\n",
    "same_color_flipping_locations -= set_removed_location\n",
    "\n",
    "# remove the orthogonals of the location from the same color flipping moves and the placing moves IF\n",
    "# they share a color only:\n",
    "same_color_flipping_locations -= removed_orthogonal\n",
    "\n",
    "if color == self.passive_bowl_token:\n",
    "    placing_locations -= removed_orthogonal\n",
    "\n",
    "# if there will be a single move remaining, the game is not terminal:\n",
    "if len(placing_locations) + len(same_color_flipping_locations) + len(different_color_flipping_locations) > 0:\n",
    "    return False\n",
    "\n",
    "return True"
   ]
  },
  {
   "cell_type": "code",
   "execution_count": null,
   "id": "7f3fc24b-8e0e-40a5-bbe6-b7b0f1ed11a4",
   "metadata": {},
   "outputs": [],
   "source": []
  },
  {
   "cell_type": "code",
   "execution_count": null,
   "id": "104427ed-d498-4bd3-8c20-4fc3eb36fecd",
   "metadata": {},
   "outputs": [],
   "source": [
    "with torch.profiler.profile(\n",
    "        activities=[\n",
    "            torch.profiler.ProfilerActivity.CPU,\n",
    "            torch.profiler.ProfilerActivity.CUDA,\n",
    "        ],\n",
    "        # schedule=torch.profiler.schedule(\n",
    "        #     wait=1, warmup=1, active=2, repeat=1, skip_first=1\n",
    "        # ),\n",
    "    ) as prof:\n",
    "        \n",
    "    my_agent.run_games()\n",
    "\n",
    "# prof.export_chrome_trace(f\"test_profiler.json\")"
   ]
  },
  {
   "cell_type": "code",
   "execution_count": null,
   "id": "357b4ec3-1691-4f93-bb0c-159c37b3ee69",
   "metadata": {},
   "outputs": [],
   "source": [
    "print(prof.key_averages().table(sort_by=\"cpu_time_total\", row_limit=10))"
   ]
  },
  {
   "cell_type": "code",
   "execution_count": null,
   "id": "879d17db-5614-4150-92c7-f567678aacb6",
   "metadata": {},
   "outputs": [],
   "source": [
    "for _game in my_agent.completed_games[9]:\n",
    "    print(_game.get_actions())\n",
    "    print(_game.calculate_score())\n",
    "    pplotter = PatternPlotter(_game, fig_size=(8, 5))\n",
    "    pplotter.plot()"
   ]
  },
  {
   "cell_type": "code",
   "execution_count": null,
   "id": "5f555d76-bd95-4b9b-a161-62d0aca3f0e1",
   "metadata": {},
   "outputs": [],
   "source": [
    "my_agent.completed_games"
   ]
  },
  {
   "cell_type": "code",
   "execution_count": null,
   "id": "2c6846fe-92eb-4171-8e1d-4c9d76b564da",
   "metadata": {},
   "outputs": [],
   "source": [
    "my_tree = Tree()\n",
    "\n",
    "my_network = PatternsNet(\n",
    "    in_channels=102, # 102 for the number of state planes: 18 for tokens, 72 for order, 12 for bowl tokens\n",
    "    out_channels=64,\n",
    ").to(my_device)\n",
    "\n",
    "for it in range(200):\n",
    "    print(f\"--_-_-_-_-_-_-_-_-_-_-_\")\n",
    "    \n",
    "    # flow to leaf:\n",
    "    leaf_node = my_tree.get_leaf_node()\n",
    "\n",
    "    # choose a random child of the leaf node, if not first visit:\n",
    "    leaf_node = leaf_node.expand()\n",
    "\n",
    "    # collect the actions that lead here:\n",
    "    _climber = leaf_node\n",
    "    _act = []\n",
    "    \n",
    "    while _climber.parent:\n",
    "        _act.append(_climber.parent.possible_actions[_climber.parent_action_arg])\n",
    "        _climber = _climber.parent\n",
    "    \n",
    "    leaf_tensor = leaf_node.get_tensor_state()\n",
    "    tensor_stack = torch.stack([leaf_tensor])\n",
    "    \n",
    "    with torch.inference_mode():\n",
    "        value_stack, policy_stack = my_network(tensor_stack.float().to(my_device))\n",
    "    \n",
    "    value_stack = value_stack.cpu().numpy()[0]\n",
    "    policy_stack = policy_stack.cpu().numpy()[0]\n",
    "    leaf_node.value_score = value_stack\n",
    "    leaf_node.policy_vector = policy_stack[leaf_node.possible_actions]\n",
    "    my_tree.back_propagate(leaf_node)\n",
    "\n",
    "    # plot the leaf node, the root node, etc:\n",
    "    print(f\"Root Node:\")\n",
    "    root_plotter = PatternPlotter(my_tree.root_node.game, fig_size=(7, 4))\n",
    "    root_plotter.plot()\n",
    "\n",
    "    print(f\"Leaf Node:\")\n",
    "    leaf_plotter = PatternPlotter(leaf_node.game, fig_size=(7, 4))\n",
    "    leaf_plotter.plot()\n",
    "    \n",
    "    print(f\"\\nActions that lead here: {_act[::-1]}\")\n",
    "    print(f\"\\nThe active color order: {leaf_node.game.active_color_order}\")\n",
    "    print(f\"\\nThe passive color order: {leaf_node.game.passive_color_order}\")\n",
    "    print(f\"--_-_-_-_-_-_-_-_-_-_-_\\n\\n\\n\")"
   ]
  },
  {
   "cell_type": "code",
   "execution_count": null,
   "id": "8c7f9ce8-b24c-48b5-be52-0a8cd9d63bae",
   "metadata": {},
   "outputs": [],
   "source": [
    "a1 = np.zeros((2, 2), dtype=int)\n",
    "a2 = np.array(a1)\n",
    "a1[0, 0] = 4\n",
    "a1[0, 1] += 2\n",
    "a2[1, 0] -= 5\n",
    "\n",
    "a1, a2"
   ]
  },
  {
   "cell_type": "code",
   "execution_count": null,
   "id": "4b544d15-463e-4b65-9a37-3d371410e11b",
   "metadata": {},
   "outputs": [],
   "source": [
    "a1 = {'a': {1, 2, 3}}\n",
    "a2 = dict(a1)\n",
    "a1['b'] = [4, 5]\n",
    "a1['a'].append(9)\n",
    "a2['a'].append(10)\n",
    "a1, a2"
   ]
  },
  {
   "cell_type": "code",
   "execution_count": null,
   "id": "cd48f26e-28ff-49a1-be50-316facce13a9",
   "metadata": {},
   "outputs": [],
   "source": [
    "my_dict = {'a': [2, 3], 'b': [4, 5]}\n",
    "{_key: list(_val) for _key, _val in my_dict.items()}"
   ]
  },
  {
   "cell_type": "code",
   "execution_count": null,
   "id": "a4059f64-0a9f-4227-8e02-49ac81a50d6c",
   "metadata": {},
   "outputs": [],
   "source": [
    "class class_checker:\n",
    "    def __init__(self, clone_class=None):\n",
    "        self.numpy_array = np.array([[1, 2, 3]])\n",
    "        self.list = [[4, 5, 6]]\n",
    "        self.val = 10\n",
    "        self.bool = True\n",
    "        self.set = {7, 8, 9}\n",
    "        self.dict = {'a': 1, 'b': 2, 'c': 3}\n",
    "\n",
    "        if clone_class is not None:\n",
    "            self.clone(clone_class)\n",
    "\n",
    "    def clone(self, another_class):\n",
    "        self.numpy_array = np.array(another_class.numpy_array)\n",
    "        self.list = another_class.list[:]\n",
    "        self.val = another_class.val\n",
    "        self.bool = another_class.bool\n",
    "        self.set = set(another_class.set)\n",
    "        self.dict = dict(another_class.dict)\n",
    "\n",
    "    def print_attributes(self):\n",
    "        print(self.numpy_array)\n",
    "        print(self.list)\n",
    "        print(self.val)\n",
    "        print(self.bool)\n",
    "        print(self.set)\n",
    "        print(self.dict)\n",
    "        \n",
    "\n",
    "class1 = class_checker()\n",
    "class2 = class_checker(class1)\n",
    "\n"
   ]
  },
  {
   "cell_type": "code",
   "execution_count": null,
   "id": "af8fd252-f484-434a-ba3f-7cab4113b789",
   "metadata": {},
   "outputs": [],
   "source": [
    "class1.numpy_array[0] *= 10\n",
    "class2.numpy_array[1] *= 100\n",
    "\n",
    "class1.list[0] *= 10\n",
    "class2.list[1] *= 100\n",
    "\n",
    "class1.val +=5\n",
    "class2.val -= 50\n",
    "\n",
    "class1.bool = True\n",
    "class2.bool = False\n",
    "\n",
    "class1.set.add(50)\n",
    "class2.set.remove(7)\n",
    "\n",
    "class1.dict[50] = 100\n",
    "class2.dict['a'] = -1\n",
    "\n",
    "class1.print_attributes()\n",
    "print()\n",
    "class2.print_attributes()"
   ]
  },
  {
   "cell_type": "code",
   "execution_count": null,
   "id": "851fc800-2971-4a89-a629-7918e94cdb99",
   "metadata": {},
   "outputs": [],
   "source": [
    "jon = np.array([1, 2, 3])\n",
    "jim = jon[1]\n",
    "jon[1] *= 10\n",
    "jim *= 100\n",
    "jim, jon"
   ]
  },
  {
   "cell_type": "code",
   "execution_count": null,
   "id": "56ec5c66-ec64-4335-966a-637b2b180122",
   "metadata": {},
   "outputs": [],
   "source": [
    "a1 = [1, 2, 3]\n",
    "a2 = a1[:]\n",
    "a1[0] *= 10\n",
    "a2[1] *= 100\n",
    "\n",
    "a1, a2"
   ]
  },
  {
   "cell_type": "code",
   "execution_count": null,
   "id": "d795a7d0-db6a-4de5-bbdd-ec0ce7b44981",
   "metadata": {},
   "outputs": [],
   "source": [
    "my_tree = Tree()\n",
    "\n",
    "my_network = PatternsNet(\n",
    "    in_channels=102, # 102 for the number of state planes: 18 for tokens, 72 for order, 12 for bowl tokens\n",
    "    out_channels=64,\n",
    ").to(my_device)\n"
   ]
  },
  {
   "cell_type": "code",
   "execution_count": null,
   "id": "1f8115ab-4ebc-499a-a70d-b59d04b9d3d0",
   "metadata": {},
   "outputs": [],
   "source": [
    "    \n",
    "# flow to leaf:\n",
    "leaf_node = my_tree.get_leaf_node()\n"
   ]
  },
  {
   "cell_type": "code",
   "execution_count": null,
   "id": "50bb0275-4627-4cce-b0e6-bc4f96b46d19",
   "metadata": {},
   "outputs": [],
   "source": [
    "leaf_node = leaf_node.expand()\n"
   ]
  },
  {
   "cell_type": "code",
   "execution_count": null,
   "id": "8ab4e1b2-b276-4e7c-a444-b7297af8e740",
   "metadata": {},
   "outputs": [],
   "source": [
    "leaf_node.game.turn_number"
   ]
  },
  {
   "cell_type": "code",
   "execution_count": null,
   "id": "9420cadd-af66-4826-9d77-20f97c1dba39",
   "metadata": {},
   "outputs": [],
   "source": [
    "leaf_node.value_score, leaf_node.policy_vector"
   ]
  },
  {
   "cell_type": "code",
   "execution_count": null,
   "id": "8a4c1559-b967-41f3-90f7-c7db58449cb2",
   "metadata": {},
   "outputs": [],
   "source": [
    "leaf_game = leaf_node.game\n",
    "root_game =  my_tree.root_node.game\n",
    "\n",
    "root_game.active_color_groups is leaf_game.active_color_groups"
   ]
  },
  {
   "cell_type": "code",
   "execution_count": null,
   "id": "8ada4913-141f-4606-a686-5ea035c5aa24",
   "metadata": {},
   "outputs": [],
   "source": [
    "\n",
    "leaf_tensor = leaf_node.get_tensor_state()\n",
    "tensor_stack = torch.stack([leaf_tensor])\n",
    "\n",
    "with torch.inference_mode():\n",
    "    value_stack, policy_stack = my_network(tensor_stack.float().to(my_device))\n",
    "\n",
    "value_stack = value_stack.cpu().numpy()[0]\n",
    "policy_stack = policy_stack.cpu().numpy()[0]\n",
    "leaf_node.value_score = value_stack\n",
    "leaf_node.policy_vector = policy_stack[leaf_node.possible_actions]"
   ]
  },
  {
   "cell_type": "code",
   "execution_count": null,
   "id": "e2226f92-7e57-4d1a-8c1a-c60fe99e754c",
   "metadata": {},
   "outputs": [],
   "source": [
    "my_tree.back_propagate(leaf_node)"
   ]
  },
  {
   "cell_type": "code",
   "execution_count": null,
   "id": "fbafac9d-b4a2-45da-998e-38b97dafbe94",
   "metadata": {},
   "outputs": [],
   "source": [
    "np.array([np.inf] * 10, dtype=float)"
   ]
  },
  {
   "cell_type": "code",
   "execution_count": null,
   "id": "f7eec64a-0c56-47b2-87a7-fae8151be949",
   "metadata": {},
   "outputs": [],
   "source": [
    "my_tree.root_node.game.turn_number"
   ]
  },
  {
   "cell_type": "code",
   "execution_count": null,
   "id": "d93cbe2e-564b-4185-9e12-2d88072d9a53",
   "metadata": {},
   "outputs": [],
   "source": [
    "\n",
    "# choose a random child of the leaf node, if not first visit:\n",
    "leaf_node = leaf_node.expand()\n",
    "\n",
    "# collect the actions that lead here:\n",
    "_climber = leaf_node\n",
    "_act = []\n",
    "\n",
    "while _climber.parent:\n",
    "    _act.append(_climber.parent.possible_actions[_climber.parent_action_arg])\n",
    "    _climber = _climber.parent\n",
    "\n",
    "leaf_tensor = leaf_node.get_tensor_state()\n",
    "tensor_stack = torch.stack([leaf_tensor])\n",
    "\n",
    "with torch.inference_mode():\n",
    "    value_stack, policy_stack = my_network(tensor_stack.float().to(my_device))\n",
    "\n",
    "value_stack = value_stack.cpu().numpy()[0]\n",
    "policy_stack = policy_stack.cpu().numpy()[0]\n",
    "leaf_node.value_score = value_stack\n",
    "leaf_node.policy_vector = policy_stack[leaf_node.possible_actions]\n",
    "my_tree.back_propagate(leaf_node)\n",
    "\n",
    "# plot the leaf node, the root node, etc:\n",
    "print(f\"Root Node:\")\n",
    "root_plotter = PatternPlotter(my_tree.root_node.game, fig_size=(7, 4))\n",
    "root_plotter.plot()\n",
    "\n",
    "print(f\"Leaf Node:\")\n",
    "leaf_plotter = PatternPlotter(leaf_node.game, fig_size=(7, 4))\n",
    "leaf_plotter.plot()\n",
    "\n",
    "\n",
    "print(f\"\\nActions that lead here: {_act[::-1]}\")\n",
    "print(f\"\\nThe active color order: {leaf_node.game.active_color_order}\")\n",
    "print(f\"\\nThe passive color order: {leaf_node.game.passive_color_order}\")\n",
    "print(f\"--_-_-_-_-_-_-_-_-_-_-_\\n\\n\\n\")"
   ]
  },
  {
   "cell_type": "code",
   "execution_count": null,
   "id": "6a7539cf-d966-44c6-b517-a72a5ebe1042",
   "metadata": {},
   "outputs": [],
   "source": [
    "my_tree.root_node.children, my_tree.root_node.visit_count, my_tree.root_node.possible_actions, my_tree.root_node.value_score, my_tree.root_node.policy_vector"
   ]
  },
  {
   "cell_type": "code",
   "execution_count": null,
   "id": "c069d43e-76de-48f5-a56d-2326821145e2",
   "metadata": {},
   "outputs": [],
   "source": [
    "jim = {1:2, 2:3, 3:4}\n",
    "james = dict(jim)\n",
    "jim[4] = 5\n",
    "james[5] = 4\n",
    "jim, james"
   ]
  },
  {
   "cell_type": "code",
   "execution_count": null,
   "id": "8d0316f8-9fb0-42dc-a5e8-576afa7e82e6",
   "metadata": {},
   "outputs": [],
   "source": [
    "leaf_node.game.active_board, leaf_node.game.passive_board, leaf_node.parent_action_arg"
   ]
  },
  {
   "cell_type": "code",
   "execution_count": null,
   "id": "d22495b1-f709-4a55-b63f-97aea1237f93",
   "metadata": {},
   "outputs": [],
   "source": [
    "leaf_node.parent.game.active_board, leaf_node.parent.game.passive_board, leaf_node.parent.possible_actions[32]"
   ]
  },
  {
   "cell_type": "code",
   "execution_count": null,
   "id": "26e71b10-97ac-4378-b528-81c7be2a5d43",
   "metadata": {},
   "outputs": [],
   "source": [
    "leaf_node.parent.game.active_color_groups"
   ]
  },
  {
   "cell_type": "code",
   "execution_count": null,
   "id": "9ed582e2-ac47-4a54-a3ef-8b3d96d47580",
   "metadata": {},
   "outputs": [],
   "source": [
    "leaf_node.parent.parent.parent.game.active_color_groups"
   ]
  },
  {
   "cell_type": "code",
   "execution_count": null,
   "id": "82db2f77-165f-4268-a390-cdd19446d951",
   "metadata": {},
   "outputs": [],
   "source": [
    "leaf_node.game.active_bowl_token, leaf_node.game.active_color_groups"
   ]
  },
  {
   "cell_type": "code",
   "execution_count": null,
   "id": "d9dc8e46-78ec-4f68-8979-3db22eb4f53a",
   "metadata": {},
   "outputs": [],
   "source": [
    "my_network = PatternsNet(\n",
    "    in_channels=102, # 102 for the number of state planes: 18 for tokens, 72 for order, 12 for bowl tokens\n",
    "    out_channels=64,\n",
    ")\n",
    "\n",
    "my_agent = Agent(\n",
    "    agent_id='1', \n",
    "    network = my_network,\n",
    "    device = my_device,\n",
    "    num_trees = 1, \n",
    "    explore_steps=100, \n",
    "    target_games=1,\n",
    "    selection_temperature=1.0\n",
    ")"
   ]
  },
  {
   "cell_type": "code",
   "execution_count": null,
   "id": "4139539c-3a2c-4d15-bb14-08cd9078cb00",
   "metadata": {},
   "outputs": [],
   "source": [
    "my_agent.trees[0].root_node.value_score"
   ]
  },
  {
   "cell_type": "code",
   "execution_count": null,
   "id": "968dc6bc-37ab-47b1-be92-c04c61ba74a0",
   "metadata": {},
   "outputs": [],
   "source": [
    "my_agent.run_games()"
   ]
  },
  {
   "cell_type": "code",
   "execution_count": null,
   "id": "b8f6f78d-0bd5-4195-9a80-de353cacf8cf",
   "metadata": {},
   "outputs": [],
   "source": [
    "my_patterns = Patterns()\n",
    "still_placing = True\n",
    "\n",
    "while True:\n",
    "    print(f\"Turn {my_patterns.turn_number}, for Player {my_patterns.player + 1}\")\n",
    "    print(f\"Score is currently:\")\n",
    "    active_score, passive_score = my_patterns.calculate_score()\n",
    "    \n",
    "    p1_score = active_score if my_patterns.player == 0 else passive_score\n",
    "    p2_score = active_score if my_patterns.player == 1 else passive_score\n",
    "    \n",
    "    print(f\"Player 1: {p1_score} -- {p2_score}: Player 2\")\n",
    "    \n",
    "    actions = my_patterns.get_actions() \n",
    "    print(f\"Available actions are: \\n{actions}\")\n",
    "    \n",
    "    if my_patterns.is_no_more_placing is True and still_placing is True:\n",
    "        still_placing = False\n",
    "        print(f\"###########################\")\n",
    "        print(f\"ALERT: no more placing moves from now on!\")\n",
    "        print(f\"###########################\")\n",
    "        \n",
    "    action = random.choice(actions)\n",
    "    print(f\"action taken is: {action}\")\n",
    "    is_terminal, _result = my_patterns.step(action)\n",
    "\n",
    "    if is_terminal:\n",
    "        break\n",
    "        \n",
    "    for _col in range(6):\n",
    "        if (my_patterns.active_color_order[_col] > 0) or (my_patterns.passive_color_order[_col] > 0):\n",
    "            print(f\"Color: {_col}\")\n",
    "            print(f\"Active flipping groups: {my_patterns.active_flipping_groups[_col]}\")\n",
    "            print(f\"Active placing groups: {my_patterns.active_placing_groups[_col]}\")\n",
    "            print(f\"Passive flipping groups: {my_patterns.passive_flipping_groups[_col]}\")\n",
    "            print(f\"Passive placing groups: {my_patterns.passive_placing_groups[_col]}\\n\")\n",
    "            \n",
    "    pattern_plotter = PatternPlotter(my_patterns, fig_size=(10, 7.5))\n",
    "    pattern_plotter.populate_board()\n",
    "\n",
    "print(f\"Game finished! Result is: {_result}\")\n",
    "\n",
    "pattern_plotter.populate_board()"
   ]
  },
  {
   "cell_type": "code",
   "execution_count": null,
   "id": "eb91b1e1-dfc3-49e1-8732-e75921764742",
   "metadata": {},
   "outputs": [],
   "source": [
    "print()\n",
    "print(my_patterns.player, my_patterns.active_board, my_patterns.active_bowl_token, )\n",
    "\n",
    "actions = my_patterns.get_actions()\n",
    "\n",
    "print(f\"Available actions are: {actions}\\n\")\n",
    "\n",
    "action = random.choice(actions)\n",
    "\n",
    "print(f\"action taken is: {action}\\n\")\n",
    "\n",
    "my_patterns.step(action)\n",
    "\n",
    "print(my_patterns.player, my_patterns.active_board, my_patterns.active_bowl_token)\n",
    "\n",
    "pattern_plotter = PatternPlotter(my_patterns, fig_size=(10, 7.5))\n",
    "pattern_plotter.populate_board()"
   ]
  },
  {
   "cell_type": "code",
   "execution_count": null,
   "id": "f55b0a81-e778-4f66-ac8b-3db0f90d2de6",
   "metadata": {},
   "outputs": [],
   "source": [
    "def play_random_patterns(num_iterations: int) -> None:\n",
    "    \"\"\" play a set number of random games\n",
    "    \"\"\"\n",
    "    num_turns = [0] * num_iterations\n",
    "    \n",
    "    for it in range(num_iterations):\n",
    "        patterns_game = Patterns()\n",
    "\n",
    "        while True:\n",
    "            actions = patterns_game.get_actions()\n",
    "            action = random.choice(actions)\n",
    "            is_terminal, result = patterns_game.step(action)\n",
    "            \n",
    "            if is_terminal:\n",
    "                break\n",
    "        num_turns[it] = patterns_game.turn_number\n",
    "\n",
    "    return num_turns"
   ]
  },
  {
   "cell_type": "code",
   "execution_count": null,
   "id": "49b0e435-c671-46fb-a54e-d41590233a89",
   "metadata": {},
   "outputs": [],
   "source": [
    "_res = play_random_patterns(10000)"
   ]
  },
  {
   "cell_type": "code",
   "execution_count": null,
   "id": "dacef363-fb98-4505-a81e-2d1f0bccae19",
   "metadata": {},
   "outputs": [],
   "source": [
    "np.sum(_res) / 10000"
   ]
  },
  {
   "cell_type": "code",
   "execution_count": null,
   "id": "3e1b910f-c435-44e3-8601-4c28e5d78bc2",
   "metadata": {},
   "outputs": [],
   "source": [
    "len({1, 2, 3})"
   ]
  },
  {
   "cell_type": "code",
   "execution_count": null,
   "id": "aa26f953-4cab-4522-9952-6ea551137206",
   "metadata": {},
   "outputs": [],
   "source": [
    "%prun play_random_patterns(10000)\n"
   ]
  },
  {
   "cell_type": "code",
   "execution_count": null,
   "id": "b7546070-969d-4f29-a9ef-b468d6b104c5",
   "metadata": {},
   "outputs": [],
   "source": [
    "def test_set_minus(num_it):\n",
    "    my_dict = {_num: set(range(100)) for _num in range(6)}\n",
    "\n",
    "    for it in range(10000):\n",
    "        for _col in range(6):\n",
    "            my_dict[_col] -= {11}\n",
    "            \n",
    "def test_set_minus_2(num_it):\n",
    "    my_dict = {_num: set(range(100)) for _num in range(6)}\n",
    "\n",
    "    for it in range(10000):\n",
    "        for _col in range(6):\n",
    "            my_dict[_col] -= {11}"
   ]
  },
  {
   "cell_type": "code",
   "execution_count": null,
   "id": "e766c4a2-f353-4bee-82e9-d1f9eed524ee",
   "metadata": {},
   "outputs": [],
   "source": [
    "%prun test_set_minus(100000)"
   ]
  },
  {
   "cell_type": "code",
   "execution_count": null,
   "id": "fe3a4128-49c6-4c18-888e-1d8f25524221",
   "metadata": {},
   "outputs": [],
   "source": [
    "%prun test_set_minus_2(100000)\n"
   ]
  },
  {
   "cell_type": "code",
   "execution_count": null,
   "id": "751bcde6-ec29-4a12-bf93-c83ee8628733",
   "metadata": {},
   "outputs": [],
   "source": [
    "from matplotlib import patches\n",
    "import matplotlib.pyplot as plt\n",
    "import numpy as np\n",
    "\n",
    "token_center = (0.0, 0.0)\n",
    "outrad = 0.35\n",
    "inrad = 0.28\n",
    "num_points = 7\n",
    "arc = 2. * np.pi / num_points\n",
    "\n",
    "patch_coords_1 = [\n",
    "    [token_center[0] + outrad * np.cos(arc * _it),\n",
    "     token_center[1] + outrad * np.sin(arc * _it)]\n",
    "    for _it in range(num_points)\n",
    "]\n",
    "                \n",
    "patch_coords_2 = [\n",
    "    [token_center[0] + inrad * np.cos((arc / 2) + arc * _it),\n",
    "     token_center[1] + inrad * np.sin((arc / 2) + arc * _it)]\n",
    "    for _it in range(num_points)\n",
    "]\n",
    "\n",
    "patch_coords = []\n",
    "for p1, p2 in zip(patch_coords_1, patch_coords_2):\n",
    "    patch_coords.append(p1)\n",
    "    patch_coords.append(p2)\n",
    "    \n",
    "fig, ax = plt.subplots()\n",
    "ax.add_patch(patches.Polygon(patch_coords, facecolor='red', edgecolor='black', linewidth=0.5))\n",
    "# ax.add_patch(patches.Polygon(patch_coords_1))\n",
    "# ax.add_patch(patches.Polygon(patch_coords_2))\n",
    "\n",
    "ax.set_xlim([-2., 2.])\n",
    "ax.set_ylim([-2., 2.])\n",
    "ax.set_aspect('equal')"
   ]
  },
  {
   "cell_type": "code",
   "execution_count": null,
   "id": "4c6a7ec3-dec3-4914-8e8f-5ef60755666a",
   "metadata": {},
   "outputs": [],
   "source": [
    "import torch\n",
    "from torch import nn\n",
    "import math"
   ]
  },
  {
   "cell_type": "code",
   "execution_count": null,
   "id": "d9acf99e-76a3-4c5e-846c-0963a55a03d0",
   "metadata": {},
   "outputs": [],
   "source": [
    "\n",
    "class BoardInitNet(nn.Module):\n",
    "    \"\"\" initial CNN processing of the board representation:\n",
    "    \"\"\"\n",
    "    def __init__(self,\n",
    "                 in_channels: int = 3,\n",
    "                 out_channels: int = 64,\n",
    "                 ) -> None:\n",
    "        super(BoardInitNet, self).__init__()\n",
    "\n",
    "        self.init = nn.Sequential(\n",
    "            # Gather all \"local\" information for each board spot (including stuff on top)\n",
    "            nn.Conv2d(in_channels, out_channels, kernel_size=3, padding=1, stride=1),\n",
    "            nn.BatchNorm2d(out_channels),\n",
    "            nn.ReLU(),\n",
    "            nn.MaxPool2d(kernel_size=3, stride=2, padding=1),\n",
    "        )\n",
    "\n",
    "    def forward(self, x: torch.Tensor) -> torch.Tensor:\n",
    "        return self.init(x)"
   ]
  },
  {
   "cell_type": "code",
   "execution_count": null,
   "id": "f58bbc5d-0ae1-44ac-b2ae-dd43ef5ee25b",
   "metadata": {},
   "outputs": [],
   "source": [
    "my_net = BoardInitNet()\n",
    "input_tensor = torch.tensor(np.random.rand(1, 3, 8, 8)).float()\n",
    "my_net(input_tensor).shape"
   ]
  },
  {
   "cell_type": "code",
   "execution_count": null,
   "id": "6941914b-9a5c-42c2-9292-5181fa2f2345",
   "metadata": {},
   "outputs": [],
   "source": [
    "my_patterns.active_board\n"
   ]
  },
  {
   "cell_type": "code",
   "execution_count": null,
   "id": "8dafd72b-c0aa-40fd-9131-bb73ba39447d",
   "metadata": {},
   "outputs": [],
   "source": [
    "my_one_hot = torch.nn.functional.one_hot(torch.tensor(my_patterns.active_board).long(), num_classes=18)"
   ]
  },
  {
   "cell_type": "code",
   "execution_count": null,
   "id": "d6aabaa9-c1f4-42ed-aada-c41b1ca46016",
   "metadata": {},
   "outputs": [],
   "source": [
    "torch.nn.functional.one_hot(torch.tensor(my_patterns.active_color_order).long() - 1, num_classes=6)\n"
   ]
  },
  {
   "cell_type": "code",
   "execution_count": null,
   "id": "9e1bfad8-eb39-4e4c-a9ff-fcd4355aac06",
   "metadata": {},
   "outputs": [],
   "source": [
    "my_tens = torch.empty((8, 8, 36), dtype=bool)\n",
    "for _it, _order in enumerate(my_patterns.active_color_order):\n",
    "    my_tens[:, :, _it * 6 + _order] = 1\n",
    "\n",
    "my_tens.int().shape"
   ]
  },
  {
   "cell_type": "code",
   "execution_count": null,
   "id": "0135000e-0afa-4784-96e4-03f51c344957",
   "metadata": {},
   "outputs": [],
   "source": [
    "# the board is just a one hot encoded version of the numpy board:\n",
    "board_tensor = torch.nn.functional.one_hot(torch.tensor(my_patterns.active_board).long(), num_classes=18)\n",
    "\n",
    "# 36 channels for each player for color group: order mapping:\n",
    "order_tensor = torch.empty((8, 8, 72), dtype=bool)\n",
    "for _it, (active_order, passive_order) in enumerate(zip(my_patterns.active_color_order, my_patterns.passive_color_order)):\n",
    "    order_tensor[:, :, _it * 6 + active_order] = 1\n",
    "    order_tensor[:, :, 36 + _it * 6 + passive_order] = 1\n",
    "    \n",
    "# bowl tokens:\n",
    "bowl_tensor = torch.empty((8, 8, 12), dtype=bool)\n",
    "bowl_tensor[:, :, my_patterns.active_bowl_token] = 1\n",
    "bowl_tensor[:, :, 6 + my_patterns.passive_bowl_token] = 1\n",
    "\n",
    "newtens =  torch.cat([board_tensor, order_tensor, bowl_tensor], dim=-1)"
   ]
  },
  {
   "cell_type": "code",
   "execution_count": null,
   "id": "f87ed713-2b59-4873-aa14-86f1801308bb",
   "metadata": {},
   "outputs": [],
   "source": [
    "newtens"
   ]
  },
  {
   "cell_type": "code",
   "execution_count": null,
   "id": "33d72cfe-582c-4065-8cb1-aa28519c89bb",
   "metadata": {},
   "outputs": [],
   "source": [
    "newtens.shape"
   ]
  },
  {
   "cell_type": "code",
   "execution_count": null,
   "id": "6a687aed-1908-4245-a155-0a1fbffb90d5",
   "metadata": {},
   "outputs": [],
   "source": [
    "72 + 18 + 12"
   ]
  },
  {
   "cell_type": "code",
   "execution_count": null,
   "id": "d6ac3c74-e51e-46f4-9818-f31c6541d596",
   "metadata": {},
   "outputs": [],
   "source": [
    "\"\"\" Value and Policy Neural Networks defined in PyTorch for use in the MCTS algorithm:\n",
    "\n",
    "State input is 8x8x102, which completely describes the current markov state.\n",
    "\n",
    "Note that if we ever move to using a transformer, it may not be necessary to continue storing the state in this way\n",
    "\n",
    "We create a CNN for the board, and MLPs for the other states.\n",
    "\n",
    "We want to munge the conv net on the board state and the state vectors early on...\n",
    "\n",
    "For now, we do all the CNN resnet stuff, followed by the MLP fully connected layers\n",
    "to blend the state with the image.\n",
    "\"\"\"\n",
    "import torch\n",
    "from torch import nn\n",
    "import math\n",
    "\n",
    "\n",
    "class PatternsNet(nn.Module):\n",
    "    \"\"\" Take in the initial munging of the board and player states, and perform standard resnet\n",
    "    fun on it:\n",
    "    \"\"\"\n",
    "    def __init__(self,\n",
    "                 in_channels: int = 102,\n",
    "                 out_channels: int = 64,\n",
    "                 ) -> None:\n",
    "        \"\"\" 102 in channels for patterns. 18 for color and player, 72 for color group order, 12 for bowl tokens.\n",
    "         \"\"\"\n",
    "        super(PatternsNet, self).__init__()\n",
    "\n",
    "        # initial processing layer: output size (samples, out_channels, 8, 8)\n",
    "        self.input_layer = nn.Sequential(\n",
    "            nn.Conv2d(in_channels, out_channels, kernel_size=3, padding=1, stride=1),\n",
    "            nn.BatchNorm2d(out_channels),\n",
    "            nn.ReLU(),\n",
    "            # nn.MaxPool2d(kernel_size=3, stride=2, padding=1)\n",
    "        )\n",
    "\n",
    "        # Downsampling layers:\n",
    "        self.down1 = ResidualLayer(in_channels=out_channels, stride=2)\n",
    "        out_channels *= 2\n",
    "        self.down2 = ResidualLayer(in_channels=out_channels, stride=2)\n",
    "        out_channels *= 2\n",
    "\n",
    "        # Standard resnet layers:\n",
    "        self.standard1 = ResidualLayer(in_channels=out_channels, stride=1)\n",
    "        self.standard2 = ResidualLayer(in_channels=out_channels, stride=1)\n",
    "\n",
    "        # different heads:\n",
    "        self.twoheadlayer = TwoHeadNet(in_channels=out_channels,\n",
    "                                       value_out_channels=out_channels // 16,\n",
    "                                       policy_out_channels=out_channels // 4,\n",
    "                                       action_space=(106,))\n",
    "\n",
    "    def forward(self, x: torch.Tensor) -> tuple[torch.Tensor, torch.Tensor]:\n",
    "        \"\"\" pass the input through the initial conv layer, expanding input channels to the number\n",
    "        of filters required, before passing through the residual blocks \"\"\"\n",
    "        x = self.input_layer(x)\n",
    "        x = self.down2(self.down1(x))\n",
    "        x = self.standard2(self.standard1(x))\n",
    "\n",
    "        return self.twoheadlayer(x)\n",
    "\n",
    "\n",
    "class TwoHeadNet(nn.Module):\n",
    "    \"\"\" Two different heads, attached to resnet backbone:\n",
    "\n",
    "    One head addresses the policy prediction (with action-space number of neurons)\n",
    "    one head addresses the value prediction (with a single neuron output, scaled to -1, 1\n",
    "    \"\"\"\n",
    "    def __init__(self,\n",
    "                 in_channels: int,\n",
    "                 value_out_channels: int,\n",
    "                 policy_out_channels: int,\n",
    "                 action_space: tuple = (106,)) -> None:\n",
    "        super(TwoHeadNet, self).__init__()\n",
    "        self.action_space = action_space\n",
    "\n",
    "        # output is float between -1 and 1 estimating board state\n",
    "        self.value_head = nn.Sequential(\n",
    "            # final bespoke convolutional layer for value:\n",
    "            nn.Conv2d(in_channels, value_out_channels, kernel_size=3, padding=1, stride=1),# bias=False),\n",
    "            nn.BatchNorm2d(value_out_channels),\n",
    "            nn.ReLU(),\n",
    "            nn.AdaptiveAvgPool2d(output_size=(1, 1)),\n",
    "            # squash to flat:\n",
    "            nn.Flatten(),\n",
    "            nn.Linear(in_features=value_out_channels, out_features=1),\n",
    "            # squish to between -1 and 1 to estimate the result of the game:\n",
    "            nn.Tanh(),\n",
    "        )\n",
    "\n",
    "        # output is logits for softmax to give distribution over action space\n",
    "        self.policy_head = nn.Sequential(\n",
    "            nn.Conv2d(in_channels, policy_out_channels, kernel_size=3, padding=1, stride=1),# bias=False),\n",
    "            nn.BatchNorm2d(policy_out_channels),\n",
    "            nn.ReLU(),\n",
    "            nn.AdaptiveAvgPool2d(output_size=(1, 1)),\n",
    "            nn.Flatten(),\n",
    "            nn.Linear(in_features=policy_out_channels, out_features=math.prod(action_space)),\n",
    "        )\n",
    "\n",
    "    def forward(self, x: torch.Tensor) -> tuple[torch.Tensor, torch.Tensor]:\n",
    "        \"\"\" produce both outputs \"\"\"\n",
    "        value_x = self.value_head(x)\n",
    "        policy_x = self.policy_head(x).view((-1, *self.action_space))\n",
    "\n",
    "        return value_x, policy_x\n",
    "\n",
    "\n",
    "class ResidualLayer(nn.Module):\n",
    "    \"\"\" Stick two residual basic blocks together, apply down-sampling as required:\n",
    "    \"\"\"\n",
    "    def __init__(self,\n",
    "                 in_channels: int = 128,\n",
    "                 stride: int = 1) -> None:\n",
    "        super(ResidualLayer, self).__init__()\n",
    "\n",
    "        # The first block can be a down-sampling layer:\n",
    "        self.basic_block_1 = ResidualBlock(in_channels=in_channels, stride=stride)\n",
    "        self.basic_block_2 = ResidualBlock(in_channels=in_channels * stride, stride=1)\n",
    "\n",
    "    def forward(self, x: torch.Tensor) -> torch.Tensor:\n",
    "        \"\"\" basic_block_1 will return x + conv(x)\n",
    "        \"\"\"\n",
    "        x1 = self.basic_block_1(x)\n",
    "        return self.basic_block_2(x1)\n",
    "\n",
    "\n",
    "class ResidualBlock(nn.Module):\n",
    "    \"\"\" A residual block of a resnet.\n",
    "\n",
    "    Note that channels in and out are assumed equal, to allow for addition with manipulation.\n",
    "    \"\"\"\n",
    "    def __init__(self,\n",
    "                 in_channels: int,\n",
    "                 stride: int = 1) -> None:\n",
    "        super(ResidualBlock, self).__init__()\n",
    "\n",
    "        self.is_downsample = True if stride != 1 else False\n",
    "\n",
    "        out_channels = stride * in_channels\n",
    "\n",
    "        # first layer can be downsample:\n",
    "        self.conv_1 = nn.Sequential(\n",
    "            nn.Conv2d(in_channels, out_channels, kernel_size=3, stride=stride, padding=1),\n",
    "            nn.BatchNorm2d(out_channels),\n",
    "            nn.ReLU(),\n",
    "        )\n",
    "\n",
    "        self.conv_2 = nn.Sequential(\n",
    "            nn.Conv2d(out_channels, out_channels, kernel_size=3, stride=1, padding=1),\n",
    "            nn.BatchNorm2d(out_channels)\n",
    "        )\n",
    "\n",
    "        # if downsampling, also downsample the residual for consistent tensor size:\n",
    "        if self.is_downsample:\n",
    "            # skip block needs a 1x1 conv to increase in channels:\n",
    "            self.downsample = nn.Sequential(\n",
    "                nn.Conv2d(in_channels, out_channels, kernel_size=1, stride=stride),\n",
    "                nn.BatchNorm2d(out_channels),\n",
    "            )\n",
    "\n",
    "        self.relu = nn.ReLU()\n",
    "\n",
    "    def forward(self, x: torch.Tensor) -> torch.Tensor:\n",
    "        \"\"\" conv block applied to x, with skip connection to allow for robust residual training \"\"\"\n",
    "        residual = x if not self.is_downsample else self.downsample(x)\n",
    "        return self.relu(residual + self.conv_2(self.conv_1(x)))\n"
   ]
  },
  {
   "cell_type": "code",
   "execution_count": null,
   "id": "b5877b17-54ee-43bf-ad83-e673c3fa8a9a",
   "metadata": {},
   "outputs": [],
   "source": [
    "def get_tensor_state(game) -> torch.Tensor:\n",
    "    \"\"\" Use the game state to form a torch tensor that can be used to eval the position\n",
    "\n",
    "    Currently, the history is not included, but it might be in the future.\n",
    "\n",
    "    The tensor state is 8 x 8 x (6x3 + 6x6 + 6x6 + 2x6) binary tensor.\n",
    "\n",
    "    The first 6x3 planes represent the board itself, with planes 0-5 denoting the presence of an unflipped token\n",
    "    of that color, 6-11 representing flipped for active player of that color, and 12-17 flipped for passive player.\n",
    "\n",
    "    This matches the numpy array, one-hot-encoded.\n",
    "\n",
    "    The next 2x6x6 planes represent the color group order taken, for each player.\n",
    "\n",
    "    In particular, these planes are constant 1 or constant 0.\n",
    "    Planes 0-5 represent the order at which color 0 was taken for the active player\n",
    "    Planes 6-11 represent the order at which color 1 was taken for the active player etc.\n",
    "\n",
    "    Planes 36 - 41 represent the order at which color 0 was taken for the passive player.\n",
    "    Planes 42 - 47 represent the order at which color 1 was taken for the passive player etc.\n",
    "\n",
    "    Finally, the final 12 planes represent the color of the bowl token for the active player (0-5) and the\n",
    "    passive player (6-11).\n",
    "    \"\"\"\n",
    "    # the board is just a one hot encoded version of the numpy board:\n",
    "    board_tensor = torch.nn.functional.one_hot(torch.tensor(game.active_board).long(), num_classes=18)\n",
    "\n",
    "    # 36 channels for each player for color group: order mapping:\n",
    "    order_tensor = torch.zeros((8, 8, 72), dtype=bool)\n",
    "    for _it, (active_order, passive_order) in enumerate(zip(game.active_color_order, game.passive_color_order)):\n",
    "        if active_order > 0:\n",
    "            order_tensor[:, :, _it * 6 + active_order - 1] = 1\n",
    "\n",
    "        if passive_order > 0:\n",
    "            order_tensor[:, :, 36 + _it * 6 + passive_order - 1] = 1\n",
    "\n",
    "    # bowl tokens:\n",
    "    bowl_tensor = torch.zeros((8, 8, 12), dtype=bool)\n",
    "    bowl_tensor[:, :, game.active_bowl_token] = 1\n",
    "    bowl_tensor[:, :, 6 + game.passive_bowl_token] = 1\n",
    "    concat_tensor = torch.cat([board_tensor, order_tensor, bowl_tensor], dim=-1)\n",
    "\n",
    "    return concat_tensor.permute(2, 0, 1)\n"
   ]
  },
  {
   "cell_type": "code",
   "execution_count": null,
   "id": "f1360512-7d92-45e8-a69d-cd21cd34699e",
   "metadata": {},
   "outputs": [],
   "source": [
    "my_tens = get_tensor_state(my_patterns)\n",
    "device = torch.device('cuda')\n",
    "pnet = PatternsNet()\n",
    "pnet.to(device)\n",
    "my_tens = my_tens.to(device).float()\n"
   ]
  },
  {
   "cell_type": "code",
   "execution_count": null,
   "id": "d568d10d-507a-4a45-b879-3c2ac312c27b",
   "metadata": {},
   "outputs": [],
   "source": [
    "out1 = pnet.input_layer(my_tens[None])\n",
    "out2 = pnet.down1(out1)\n",
    "out3 = pnet.down2(out2)\n",
    "out4 = pnet.standard1(out3)\n",
    "out5 = pnet.standard2(out4)\n",
    "out6 = pnet.twoheadlayer(out5)"
   ]
  },
  {
   "cell_type": "code",
   "execution_count": null,
   "id": "17333f9d-c737-4bf8-b1fb-f9a86cca7815",
   "metadata": {},
   "outputs": [],
   "source": [
    "out1.shape, out2.shape, out3.shape, out4.shape, out5.shape, out6[0].shape, out6[1].shape"
   ]
  },
  {
   "cell_type": "code",
   "execution_count": null,
   "id": "eda6d84d-0fc5-4fbe-a7f0-70911441f85a",
   "metadata": {},
   "outputs": [],
   "source": [
    "# the board is just a one hot encoded version of the numpy board:\n",
    "board_tensor = torch.nn.functional.one_hot(torch.tensor(my_patterns.active_board).long(), num_classes=18)\n",
    "\n",
    "# 36 channels for each player for color group: order mapping:\n",
    "order_tensor = torch.zeros((8, 8, 72), dtype=bool)\n",
    "for _it, (active_order, passive_order) in enumerate(zip(my_patterns.active_color_order, my_patterns.passive_color_order)):\n",
    "    if active_order > 0:\n",
    "        order_tensor[:, :, _it * 6 + active_order - 1] = 1\n",
    "\n",
    "    if passive_order > 0:\n",
    "        order_tensor[:, :, 36 + _it * 6 + passive_order - 1] = 1\n",
    "\n",
    "# bowl tokens:\n",
    "bowl_tensor = torch.zeros((8, 8, 12), dtype=bool)\n",
    "bowl_tensor[:, :, my_patterns.active_bowl_token] = 1\n",
    "bowl_tensor[:, :, 6 + my_patterns.passive_bowl_token] = 1\n",
    "\n",
    "concat_tensor = torch.cat([board_tensor, order_tensor, bowl_tensor], dim=-1)"
   ]
  },
  {
   "cell_type": "code",
   "execution_count": null,
   "id": "02a0cd6b-6374-4949-ad76-c5027f4360d8",
   "metadata": {},
   "outputs": [],
   "source": [
    "my_patterns.active_bowl_token, my_patterns.passive_bowl_token"
   ]
  },
  {
   "cell_type": "code",
   "execution_count": null,
   "id": "f28a2253-1183-439d-8247-0e3a6108eea3",
   "metadata": {},
   "outputs": [],
   "source": [
    "bowl_tensor[:, :, -1]"
   ]
  },
  {
   "cell_type": "code",
   "execution_count": null,
   "id": "ad6835e0-7814-4008-8772-c257e8d476da",
   "metadata": {},
   "outputs": [],
   "source": [
    "my_tensor = torch.zeros((2, 3, 4), dtype=int)\n",
    "my_tensor[:, :, 0]"
   ]
  },
  {
   "cell_type": "code",
   "execution_count": null,
   "id": "91c8c903-72af-4d9c-9f6f-55f5d9679f5d",
   "metadata": {},
   "outputs": [],
   "source": [
    "my_patterns.active_color_order\n"
   ]
  },
  {
   "cell_type": "code",
   "execution_count": null,
   "id": "2401af4e-47f2-43c3-add9-e3a8782a7d2a",
   "metadata": {},
   "outputs": [],
   "source": [
    "def test_fair_coin(p: float) -> int:\n",
    "    sample1 = random.random()\n",
    "    res1 = 0 if sample1 < p else 1\n",
    "    sprob1 = p if sample1 < p else (1 - p)\n",
    "    num_p1 = run_game(sprob1)\n",
    "    \n",
    "    sample2 = random.random()\n",
    "    res2 = 0 if sample2 < p else 1\n",
    "    sprob2 = p if sample2 < p else (1 - p)\n",
    "    num_p2 = run_game(sprob2, num_p1 + 1)\n",
    "\n",
    "    if num_p1 == num_p2:\n",
    "        if res1 != res2:\n",
    "            return 0\n",
    "            \n",
    "        return 1\n",
    "\n",
    "    return num_p1 > num_p2\n",
    "\n",
    "def run_game(sample_probability: float, num_runs: int = 100000000) -> int:\n",
    "    \"\"\" determine the number of successes before you hit a transition\n",
    "    that is hhhhh...hhht or ttttt..... tttth\n",
    "    \"\"\"\n",
    "    count = 0\n",
    "    num = 1\n",
    "    sample = random.random()\n",
    "    \n",
    "    while sample < sample_probability:\n",
    "        num += 1\n",
    "        count += 1\n",
    "        sample = random.random()\n",
    "        \n",
    "        if count >= num_runs:\n",
    "            break\n",
    "\n",
    "    return num\n",
    "        \n",
    "def collect_dist(p: float, num_samples: int) -> int:\n",
    "    res = 0\n",
    "    for it in range(num_samples):\n",
    "        res += int(test_fair_coin(p))\n",
    "\n",
    "    return res\n",
    "\n",
    "num_samples = 1000000\n",
    "res = collect_dist(p=0.2, num_samples=num_samples)\n",
    " \n",
    "res / num_samples"
   ]
  },
  {
   "cell_type": "code",
   "execution_count": null,
   "id": "e34e4037-735c-4a20-99b5-130bf5572a38",
   "metadata": {},
   "outputs": [],
   "source": []
  },
  {
   "cell_type": "code",
   "execution_count": null,
   "id": "32c949bf-389f-4f6e-8a33-81350306c364",
   "metadata": {},
   "outputs": [],
   "source": [
    "import matplotlib.pyplot as plt\n"
   ]
  },
  {
   "cell_type": "code",
   "execution_count": null,
   "id": "cb9cfec5-33b3-4d5c-8d00-fd704ec9fbaa",
   "metadata": {},
   "outputs": [],
   "source": [
    "p = 0.3\n",
    "q = 1-p\n",
    "n = 1000\n",
    "tot = [0] * n\n",
    "tot2 = [0] * n\n",
    "tot3 = [0] * n\n",
    "tot4 = [0] * n\n",
    "\n",
    "for it in range(1, n + 1):\n",
    "    tot[it - 1] = (q * p ** it + p * q ** it) * (p ** (it + 1) + q ** (it + 1))\n",
    "    tot2[it - 1] = ((q * p ** it + p * q ** it) ** 2) / 2\n",
    "    tot3[it - 1] = p * q * (p ** (2 * it) + q ** (2 * it))\n",
    "    tot4[it - 1] = (p ** 2) * (q ** 2) * (p ** (2 * (it - 1)) + q ** (2 * (it - 1))) / 2\n",
    "\n",
    "print(np.sum(tot) +  np.sum(tot2))\n",
    "\n",
    "fig, ax = plt.subplots()\n",
    "ax.plot(np.cumsum(tot) + np.cumsum(tot2))\n",
    "ax.plot(np.cumsum(tot3) + np.cumsum(tot4))\n",
    "\n",
    "\n"
   ]
  },
  {
   "cell_type": "code",
   "execution_count": null,
   "id": "8c86f389-54a0-4517-8d3d-1432bd291799",
   "metadata": {},
   "outputs": [],
   "source": [
    "np.sum(tot)"
   ]
  },
  {
   "cell_type": "code",
   "execution_count": null,
   "id": "303cb0e2-f5c9-48b8-9901-704e61c6524d",
   "metadata": {},
   "outputs": [],
   "source": [
    "from int_to_board import location_to_coordinates, orthogonal_neighbors"
   ]
  },
  {
   "cell_type": "code",
   "execution_count": null,
   "id": "cc116462-6ce9-459f-a780-2cf6a56c2e14",
   "metadata": {},
   "outputs": [],
   "source": [
    "location_to_coordinates, orthogonal_neighbors"
   ]
  },
  {
   "cell_type": "code",
   "execution_count": null,
   "id": "3262c48a-d91e-4a5f-8d94-c3f001e8d903",
   "metadata": {},
   "outputs": [],
   "source": [
    "huh we only need the tensor state when it is visited for the first time... So when creating the children\n",
    "just create action arguments.\n",
    "Then if child is visited first time, get tensor state if not terminal.\n",
    "Then if child is visited second time, create game.                              "
   ]
  },
  {
   "cell_type": "code",
   "execution_count": null,
   "id": "10d6b29d-41a2-4631-940c-d70ae9a265a0",
   "metadata": {},
   "outputs": [],
   "source": [
    "active_order = [0, 0, 1, 3, 2, 0]\n",
    "passive_order = [1, 0, 2, 5, 4, 3]\n",
    "\n",
    "ind = [_x - 1 + 6 * _it for _it, _x in enumerate(active_order + passive_order) if _x > 0]\n",
    "np.array(ind)"
   ]
  },
  {
   "cell_type": "code",
   "execution_count": null,
   "id": "18c5452e-8973-4561-b015-94814ab54862",
   "metadata": {},
   "outputs": [],
   "source": [
    "my_tensor = torch.zeros((1, 1, 72))\n",
    "my_tensor[:, :, ind] = 1"
   ]
  },
  {
   "cell_type": "code",
   "execution_count": null,
   "id": "d596773f-937f-4d33-a917-34b2f3bcf4c0",
   "metadata": {},
   "outputs": [],
   "source": [
    "my_tensor"
   ]
  },
  {
   "cell_type": "code",
   "execution_count": null,
   "id": "01ddbc71-1016-4555-87a5-999352a6a5ae",
   "metadata": {},
   "outputs": [],
   "source": [
    " "
   ]
  },
  {
   "cell_type": "code",
   "execution_count": null,
   "id": "0b567c1c-a4df-4048-bc38-3a4fa507a904",
   "metadata": {},
   "outputs": [],
   "source": []
  }
 ],
 "metadata": {
  "kernelspec": {
   "display_name": "Python 3 (ipykernel)",
   "language": "python",
   "name": "python3"
  },
  "language_info": {
   "codemirror_mode": {
    "name": "ipython",
    "version": 3
   },
   "file_extension": ".py",
   "mimetype": "text/x-python",
   "name": "python",
   "nbconvert_exporter": "python",
   "pygments_lexer": "ipython3",
   "version": "3.11.5"
  }
 },
 "nbformat": 4,
 "nbformat_minor": 5
}
